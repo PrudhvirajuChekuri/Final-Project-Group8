{
 "cells": [
  {
   "cell_type": "markdown",
   "id": "13468217",
   "metadata": {
    "papermill": {
     "duration": 0.009918,
     "end_time": "2025-04-30T01:25:21.825566",
     "exception": false,
     "start_time": "2025-04-30T01:25:21.815648",
     "status": "completed"
    },
    "tags": []
   },
   "source": [
    "# Install Packages"
   ]
  },
  {
   "cell_type": "code",
   "execution_count": 1,
   "id": "71c8bdd2",
   "metadata": {
    "execution": {
     "iopub.execute_input": "2025-04-30T01:25:21.842433Z",
     "iopub.status.busy": "2025-04-30T01:25:21.842136Z",
     "iopub.status.idle": "2025-04-30T01:28:27.284910Z",
     "shell.execute_reply": "2025-04-30T01:28:27.283883Z"
    },
    "papermill": {
     "duration": 185.452055,
     "end_time": "2025-04-30T01:28:27.286516",
     "exception": false,
     "start_time": "2025-04-30T01:25:21.834461",
     "status": "completed"
    },
    "tags": []
   },
   "outputs": [],
   "source": [
    "%%capture\n",
    "!pip install pip3-autoremove\n",
    "!pip-autoremove torch torchvision torchaudio -y\n",
    "!pip install torch torchvision torchaudio xformers --index-url https://download.pytorch.org/whl/cu121\n",
    "!pip install unsloth"
   ]
  },
  {
   "cell_type": "markdown",
   "id": "a0292242",
   "metadata": {
    "papermill": {
     "duration": 0.004648,
     "end_time": "2025-04-30T01:28:27.296724",
     "exception": false,
     "start_time": "2025-04-30T01:28:27.292076",
     "status": "completed"
    },
    "tags": []
   },
   "source": [
    "# Import Libraries"
   ]
  },
  {
   "cell_type": "code",
   "execution_count": 2,
   "id": "d2354100",
   "metadata": {
    "execution": {
     "iopub.execute_input": "2025-04-30T01:28:27.307650Z",
     "iopub.status.busy": "2025-04-30T01:28:27.306997Z",
     "iopub.status.idle": "2025-04-30T01:28:57.849194Z",
     "shell.execute_reply": "2025-04-30T01:28:57.848592Z"
    },
    "papermill": {
     "duration": 30.549324,
     "end_time": "2025-04-30T01:28:57.850740",
     "exception": false,
     "start_time": "2025-04-30T01:28:27.301416",
     "status": "completed"
    },
    "tags": []
   },
   "outputs": [
    {
     "name": "stderr",
     "output_type": "stream",
     "text": [
      "2025-04-30 01:28:34.719228: E external/local_xla/xla/stream_executor/cuda/cuda_fft.cc:477] Unable to register cuFFT factory: Attempting to register factory for plugin cuFFT when one has already been registered\n",
      "WARNING: All log messages before absl::InitializeLog() is called are written to STDERR\n",
      "E0000 00:00:1745976514.909449      19 cuda_dnn.cc:8310] Unable to register cuDNN factory: Attempting to register factory for plugin cuDNN when one has already been registered\n",
      "E0000 00:00:1745976514.964151      19 cuda_blas.cc:1418] Unable to register cuBLAS factory: Attempting to register factory for plugin cuBLAS when one has already been registered\n",
      "/tmp/ipykernel_19/1046450544.py:19: UserWarning: WARNING: Unsloth should be imported before transformers, peft to ensure all optimizations are applied. Your code may run slower or encounter memory issues without these optimizations.\n",
      "\n",
      "Please restructure your imports with 'import unsloth' at the top of your file.\n",
      "  from unsloth import FastLanguageModel\n"
     ]
    },
    {
     "name": "stdout",
     "output_type": "stream",
     "text": [
      "🦥 Unsloth: Will patch your computer to enable 2x faster free finetuning.\n",
      "🦥 Unsloth Zoo will now patch everything to make training faster!\n"
     ]
    }
   ],
   "source": [
    "import re\n",
    "import os\n",
    "import gc\n",
    "import time\n",
    "import torch\n",
    "import random\n",
    "import pandas as pd\n",
    "import numpy as np\n",
    "from tqdm.auto import tqdm\n",
    "from datasets import Dataset, DatasetDict, ClassLabel\n",
    "from transformers import (\n",
    "    pipeline,\n",
    "    AutoTokenizer,\n",
    "    AutoModelForSeq2SeqLM,\n",
    "    AutoModelForSequenceClassification,\n",
    "    TrainingArguments,\n",
    "    Trainer\n",
    ")\n",
    "from unsloth import FastLanguageModel"
   ]
  },
  {
   "cell_type": "markdown",
   "id": "6dec7f10",
   "metadata": {
    "papermill": {
     "duration": 0.005336,
     "end_time": "2025-04-30T01:28:57.862101",
     "exception": false,
     "start_time": "2025-04-30T01:28:57.856765",
     "status": "completed"
    },
    "tags": []
   },
   "source": [
    "# Set seed for Reproducibility"
   ]
  },
  {
   "cell_type": "code",
   "execution_count": 3,
   "id": "3037df49",
   "metadata": {
    "execution": {
     "iopub.execute_input": "2025-04-30T01:28:57.872988Z",
     "iopub.status.busy": "2025-04-30T01:28:57.872674Z",
     "iopub.status.idle": "2025-04-30T01:28:57.879813Z",
     "shell.execute_reply": "2025-04-30T01:28:57.879226Z"
    },
    "papermill": {
     "duration": 0.014008,
     "end_time": "2025-04-30T01:28:57.880992",
     "exception": false,
     "start_time": "2025-04-30T01:28:57.866984",
     "status": "completed"
    },
    "tags": []
   },
   "outputs": [],
   "source": [
    "def set_random_seed(seed=42):\n",
    "    random.seed(seed)\n",
    "    os.environ['PYTHONHASHSEED'] = str(seed)\n",
    "    np.random.seed(seed)\n",
    "    torch.manual_seed(seed)\n",
    "    torch.cuda.manual_seed(seed)\n",
    "\n",
    "set_random_seed()"
   ]
  },
  {
   "cell_type": "code",
   "execution_count": 4,
   "id": "555793e9",
   "metadata": {
    "execution": {
     "iopub.execute_input": "2025-04-30T01:28:57.891830Z",
     "iopub.status.busy": "2025-04-30T01:28:57.891641Z",
     "iopub.status.idle": "2025-04-30T01:28:57.894891Z",
     "shell.execute_reply": "2025-04-30T01:28:57.894337Z"
    },
    "papermill": {
     "duration": 0.009964,
     "end_time": "2025-04-30T01:28:57.896022",
     "exception": false,
     "start_time": "2025-04-30T01:28:57.886058",
     "status": "completed"
    },
    "tags": []
   },
   "outputs": [],
   "source": [
    "# Function to clear memory when needed\n",
    "\n",
    "def clean_memory():\n",
    "    gc.collect()\n",
    "    torch.cuda.empty_cache()\n",
    "    time.sleep(5)"
   ]
  },
  {
   "cell_type": "markdown",
   "id": "3d42319a",
   "metadata": {
    "papermill": {
     "duration": 0.004621,
     "end_time": "2025-04-30T01:28:57.905924",
     "exception": false,
     "start_time": "2025-04-30T01:28:57.901303",
     "status": "completed"
    },
    "tags": []
   },
   "source": [
    "# Load Data"
   ]
  },
  {
   "cell_type": "code",
   "execution_count": 5,
   "id": "d967f78f",
   "metadata": {
    "execution": {
     "iopub.execute_input": "2025-04-30T01:28:57.918470Z",
     "iopub.status.busy": "2025-04-30T01:28:57.918017Z",
     "iopub.status.idle": "2025-04-30T01:28:58.036350Z",
     "shell.execute_reply": "2025-04-30T01:28:58.035584Z"
    },
    "papermill": {
     "duration": 0.125228,
     "end_time": "2025-04-30T01:28:58.037632",
     "exception": false,
     "start_time": "2025-04-30T01:28:57.912404",
     "status": "completed"
    },
    "tags": []
   },
   "outputs": [
    {
     "data": {
      "text/html": [
       "<div>\n",
       "<style scoped>\n",
       "    .dataframe tbody tr th:only-of-type {\n",
       "        vertical-align: middle;\n",
       "    }\n",
       "\n",
       "    .dataframe tbody tr th {\n",
       "        vertical-align: top;\n",
       "    }\n",
       "\n",
       "    .dataframe thead th {\n",
       "        text-align: right;\n",
       "    }\n",
       "</style>\n",
       "<table border=\"1\" class=\"dataframe\">\n",
       "  <thead>\n",
       "    <tr style=\"text-align: right;\">\n",
       "      <th></th>\n",
       "      <th>id</th>\n",
       "      <th>Question</th>\n",
       "    </tr>\n",
       "  </thead>\n",
       "  <tbody>\n",
       "    <tr>\n",
       "      <th>0</th>\n",
       "      <td>0</td>\n",
       "      <td>b'Solve 0 = -i - 91*i - 1598*i - 64220 for i.\\n'</td>\n",
       "    </tr>\n",
       "    <tr>\n",
       "      <th>1</th>\n",
       "      <td>1</td>\n",
       "      <td>Galperin G.A.\\n\\nA natural number $N$ is 999.....</td>\n",
       "    </tr>\n",
       "    <tr>\n",
       "      <th>2</th>\n",
       "      <td>2</td>\n",
       "      <td>Example 7 Calculate $\\frac{1}{2 \\sqrt{1}+\\sqrt...</td>\n",
       "    </tr>\n",
       "    <tr>\n",
       "      <th>3</th>\n",
       "      <td>3</td>\n",
       "      <td>If $A$, $B$, and $C$ represent three distinct ...</td>\n",
       "    </tr>\n",
       "    <tr>\n",
       "      <th>4</th>\n",
       "      <td>4</td>\n",
       "      <td>2. Calculate $1+12+123+1234+12345+123456+12345...</td>\n",
       "    </tr>\n",
       "    <tr>\n",
       "      <th>...</th>\n",
       "      <td>...</td>\n",
       "      <td>...</td>\n",
       "    </tr>\n",
       "    <tr>\n",
       "      <th>3039</th>\n",
       "      <td>3039</td>\n",
       "      <td>Find the greatest possible value of $pq + r$, ...</td>\n",
       "    </tr>\n",
       "    <tr>\n",
       "      <th>3040</th>\n",
       "      <td>3040</td>\n",
       "      <td>4. Given that $a, b, c$ are the lengths of the...</td>\n",
       "    </tr>\n",
       "    <tr>\n",
       "      <th>3041</th>\n",
       "      <td>3041</td>\n",
       "      <td>3.18. Find the eccentricity, coordinates of th...</td>\n",
       "    </tr>\n",
       "    <tr>\n",
       "      <th>3042</th>\n",
       "      <td>3042</td>\n",
       "      <td>Find the least positive integer $k$ for which ...</td>\n",
       "    </tr>\n",
       "    <tr>\n",
       "      <th>3043</th>\n",
       "      <td>3043</td>\n",
       "      <td>Given a positive integer $n$, what is the larg...</td>\n",
       "    </tr>\n",
       "  </tbody>\n",
       "</table>\n",
       "<p>3044 rows × 2 columns</p>\n",
       "</div>"
      ],
      "text/plain": [
       "        id                                           Question\n",
       "0        0   b'Solve 0 = -i - 91*i - 1598*i - 64220 for i.\\n'\n",
       "1        1  Galperin G.A.\\n\\nA natural number $N$ is 999.....\n",
       "2        2  Example 7 Calculate $\\frac{1}{2 \\sqrt{1}+\\sqrt...\n",
       "3        3  If $A$, $B$, and $C$ represent three distinct ...\n",
       "4        4  2. Calculate $1+12+123+1234+12345+123456+12345...\n",
       "...    ...                                                ...\n",
       "3039  3039  Find the greatest possible value of $pq + r$, ...\n",
       "3040  3040  4. Given that $a, b, c$ are the lengths of the...\n",
       "3041  3041  3.18. Find the eccentricity, coordinates of th...\n",
       "3042  3042  Find the least positive integer $k$ for which ...\n",
       "3043  3043  Given a positive integer $n$, what is the larg...\n",
       "\n",
       "[3044 rows x 2 columns]"
      ]
     },
     "execution_count": 5,
     "metadata": {},
     "output_type": "execute_result"
    }
   ],
   "source": [
    "test_df = pd.read_csv(\"/kaggle/input/classification-of-math-problems-by-kasut-academy/test.csv\")\n",
    "test_df"
   ]
  },
  {
   "cell_type": "code",
   "execution_count": 6,
   "id": "3717dd94",
   "metadata": {
    "execution": {
     "iopub.execute_input": "2025-04-30T01:28:58.050341Z",
     "iopub.status.busy": "2025-04-30T01:28:58.049720Z",
     "iopub.status.idle": "2025-04-30T01:28:58.053404Z",
     "shell.execute_reply": "2025-04-30T01:28:58.052898Z"
    },
    "papermill": {
     "duration": 0.010724,
     "end_time": "2025-04-30T01:28:58.054432",
     "exception": false,
     "start_time": "2025-04-30T01:28:58.043708",
     "status": "completed"
    },
    "tags": []
   },
   "outputs": [],
   "source": [
    "id2label = {\n",
    "    0: \"Algebra\",\n",
    "    1: \"Geometry and Trigonometry\",\n",
    "    2: \"Calculus and Analysis\",\n",
    "    3: \"Probability and Statistics\",\n",
    "    4: \"Number Theory\",\n",
    "    5: \"Combinatorics and Discrete Math\",\n",
    "    6: \"Linear Algebra\",\n",
    "    7: \"Abstract Algebra and Topology\"\n",
    "}\n",
    "label2id = {v: k for k, v in id2label.items()}"
   ]
  },
  {
   "cell_type": "markdown",
   "id": "79912ca4",
   "metadata": {
    "papermill": {
     "duration": 0.005962,
     "end_time": "2025-04-30T01:28:58.065623",
     "exception": false,
     "start_time": "2025-04-30T01:28:58.059661",
     "status": "completed"
    },
    "tags": []
   },
   "source": [
    "# Fine-tuned LLAMA 1B Model"
   ]
  },
  {
   "cell_type": "markdown",
   "id": "57e1fc3f",
   "metadata": {
    "papermill": {
     "duration": 0.00489,
     "end_time": "2025-04-30T01:28:58.075783",
     "exception": false,
     "start_time": "2025-04-30T01:28:58.070893",
     "status": "completed"
    },
    "tags": []
   },
   "source": [
    "## Load Model and Tokenizer"
   ]
  },
  {
   "cell_type": "code",
   "execution_count": 7,
   "id": "05ee449d",
   "metadata": {
    "execution": {
     "iopub.execute_input": "2025-04-30T01:28:58.087048Z",
     "iopub.status.busy": "2025-04-30T01:28:58.086871Z",
     "iopub.status.idle": "2025-04-30T01:29:10.855044Z",
     "shell.execute_reply": "2025-04-30T01:29:10.854486Z"
    },
    "papermill": {
     "duration": 12.775239,
     "end_time": "2025-04-30T01:29:10.856636",
     "exception": false,
     "start_time": "2025-04-30T01:28:58.081397",
     "status": "completed"
    },
    "tags": []
   },
   "outputs": [
    {
     "name": "stderr",
     "output_type": "stream",
     "text": [
      "/usr/local/lib/python3.11/dist-packages/peft/config.py:162: UserWarning: Unexpected keyword arguments ['alpha_pattern', 'bias', 'corda_config', 'eva_config', 'exclude_modules', 'fan_in_fan_out', 'init_lora_weights', 'layer_replication', 'layers_pattern', 'layers_to_transform', 'loftq_config', 'lora_alpha', 'lora_bias', 'lora_dropout', 'megatron_config', 'megatron_core', 'modules_to_save', 'r', 'rank_pattern', 'target_modules', 'trainable_token_indices', 'use_dora', 'use_rslora'] for class PeftConfig, these are ignored. This probably means that you're loading a configuration file that was saved using a higher version of the library and additional parameters have been introduced since. It is highly recommended to upgrade the PEFT version before continuing (e.g. by running `pip install -U peft`).\n",
      "  warnings.warn(\n"
     ]
    },
    {
     "name": "stdout",
     "output_type": "stream",
     "text": [
      "==((====))==  Unsloth 2025.4.3: Fast Llama patching. Transformers: 4.51.1.\n",
      "   \\\\   /|    Tesla T4. Num GPUs = 2. Max memory: 14.741 GB. Platform: Linux.\n",
      "O^O/ \\_/ \\    Torch: 2.5.1+cu121. CUDA: 7.5. CUDA Toolkit: 12.1. Triton: 3.1.0\n",
      "\\        /    Bfloat16 = FALSE. FA [Xformers = 0.0.29.post1. FA2 = False]\n",
      " \"-____-\"     Free license: http://github.com/unslothai/unsloth\n",
      "Unsloth: Fast downloading is enabled - ignore downloading bars which are red colored!\n"
     ]
    },
    {
     "name": "stderr",
     "output_type": "stream",
     "text": [
      "Xet Storage is enabled for this repo, but the 'hf_xet' package is not installed. Falling back to regular HTTP download. For better performance, install the package with: `pip install huggingface_hub[hf_xet]` or `pip install hf_xet`\n"
     ]
    },
    {
     "data": {
      "application/vnd.jupyter.widget-view+json": {
       "model_id": "12ba1bf0f7bb45c58093c7bf8cccd01f",
       "version_major": 2,
       "version_minor": 0
      },
      "text/plain": [
       "model.safetensors:   0%|          | 0.00/1.10G [00:00<?, ?B/s]"
      ]
     },
     "metadata": {},
     "output_type": "display_data"
    },
    {
     "data": {
      "application/vnd.jupyter.widget-view+json": {
       "model_id": "10d78aa5d1df4d86abf5218bda69a8cf",
       "version_major": 2,
       "version_minor": 0
      },
      "text/plain": [
       "generation_config.json:   0%|          | 0.00/230 [00:00<?, ?B/s]"
      ]
     },
     "metadata": {},
     "output_type": "display_data"
    },
    {
     "name": "stderr",
     "output_type": "stream",
     "text": [
      "/usr/local/lib/python3.11/dist-packages/peft/config.py:162: UserWarning: Unexpected keyword arguments ['corda_config', 'trainable_token_indices'] for class LoraConfig, these are ignored. This probably means that you're loading a configuration file that was saved using a higher version of the library and additional parameters have been introduced since. It is highly recommended to upgrade the PEFT version before continuing (e.g. by running `pip install -U peft`).\n",
      "  warnings.warn(\n",
      "Unsloth 2025.4.3 patched 16 layers with 16 QKV layers, 16 O layers and 16 MLP layers.\n"
     ]
    }
   ],
   "source": [
    "max_seq_length = 2048\n",
    "dtype = None\n",
    "load_in_4bit = True\n",
    "\n",
    "model, tokenizer = FastLanguageModel.from_pretrained(\n",
    "    model_name = \"/kaggle/input/saved-models/ensemble/llama_1b_model\",\n",
    "    max_seq_length = max_seq_length,\n",
    "    dtype = dtype,\n",
    "    load_in_4bit = load_in_4bit\n",
    ")"
   ]
  },
  {
   "cell_type": "markdown",
   "id": "e1598cca",
   "metadata": {
    "papermill": {
     "duration": 0.005192,
     "end_time": "2025-04-30T01:29:10.868083",
     "exception": false,
     "start_time": "2025-04-30T01:29:10.862891",
     "status": "completed"
    },
    "tags": []
   },
   "source": [
    "## Make predictions on Test Set"
   ]
  },
  {
   "cell_type": "code",
   "execution_count": 8,
   "id": "1bdb43d3",
   "metadata": {
    "execution": {
     "iopub.execute_input": "2025-04-30T01:29:10.880502Z",
     "iopub.status.busy": "2025-04-30T01:29:10.879767Z",
     "iopub.status.idle": "2025-04-30T01:39:02.231197Z",
     "shell.execute_reply": "2025-04-30T01:39:02.230578Z"
    },
    "papermill": {
     "duration": 591.358632,
     "end_time": "2025-04-30T01:39:02.232395",
     "exception": false,
     "start_time": "2025-04-30T01:29:10.873763",
     "status": "completed"
    },
    "tags": []
   },
   "outputs": [
    {
     "data": {
      "application/vnd.jupyter.widget-view+json": {
       "model_id": "80afceb2f9fb4711839f28a9ca78006d",
       "version_major": 2,
       "version_minor": 0
      },
      "text/plain": [
       "  0%|          | 0/3044 [00:00<?, ?it/s]"
      ]
     },
     "metadata": {},
     "output_type": "display_data"
    },
    {
     "name": "stderr",
     "output_type": "stream",
     "text": [
      "Unsloth: Input IDs of length 2135 > the model's max sequence length of 2048.\n",
      "We shall truncate it ourselves. It's imperative if you correct this issue first.\n"
     ]
    }
   ],
   "source": [
    "FastLanguageModel.for_inference(model)\n",
    "\n",
    "test_set = test_df.copy()\n",
    "test_set[\"instruction\"] = \"Classify this math problem into one of these eight topics: Algebra, Geometry and Trigonometry, Calculus and Analysis, Probability and Statistics, Number Theory, Combinatorics and Discrete Math, Linear Algebra, Abstract Algebra and Topology.\"\n",
    "test_set.rename(columns = {\"Question\": \"input\"}, inplace=True)\n",
    "\n",
    "\n",
    "prompt = \"\"\"Below is an instruction that describes a task, paired with an input that provides further context. Write a response that appropriately completes the request.\n",
    "\n",
    "### Instruction:\n",
    "{}\n",
    "\n",
    "### Input:\n",
    "{}\n",
    "\n",
    "### Response:\n",
    "{}\"\"\"\n",
    "\n",
    "\n",
    "raw_outputs = []\n",
    "for i in tqdm(range(len(test_set))):\n",
    "  inputs = tokenizer(\n",
    "  [\n",
    "      prompt.format(\n",
    "          test_set.iloc[0][\"instruction\"], # instruction\n",
    "          test_set.iloc[i][\"input\"], # input\n",
    "          \"\", # output - leave this blank for generation!\n",
    "      )\n",
    "  ], return_tensors = \"pt\").to(\"cuda\")\n",
    "\n",
    "  outputs = model.generate(**inputs, max_new_tokens = 64, use_cache = True)\n",
    "  raw_outputs.append(tokenizer.batch_decode(outputs))"
   ]
  },
  {
   "cell_type": "code",
   "execution_count": 9,
   "id": "d583274b",
   "metadata": {
    "execution": {
     "iopub.execute_input": "2025-04-30T01:39:02.246194Z",
     "iopub.status.busy": "2025-04-30T01:39:02.245986Z",
     "iopub.status.idle": "2025-04-30T01:39:02.264314Z",
     "shell.execute_reply": "2025-04-30T01:39:02.263692Z"
    },
    "papermill": {
     "duration": 0.026235,
     "end_time": "2025-04-30T01:39:02.265542",
     "exception": false,
     "start_time": "2025-04-30T01:39:02.239307",
     "status": "completed"
    },
    "tags": []
   },
   "outputs": [
    {
     "data": {
      "text/plain": [
       "[0, 4, 2, 0, 5, 1, 4, 1, 2, 2]"
      ]
     },
     "execution_count": 9,
     "metadata": {},
     "output_type": "execute_result"
    }
   ],
   "source": [
    "test_set[\"raw_outputs\"] = [raw_output[0] for raw_output in raw_outputs]\n",
    "\n",
    "def parse_output(output):\n",
    "    re_match = re.search(r'### Response:\\n(.*?)<\\|end_of_text\\|>', output, re.DOTALL)\n",
    "    if re_match:\n",
    "        response = re_match.group(1).strip()\n",
    "        return response\n",
    "    else:\n",
    "        return ''\n",
    "\n",
    "test_set[\"parsed_outputs\"] = test_set[\"raw_outputs\"].apply(parse_output)\n",
    "\n",
    "llama_labels = test_set[\"parsed_outputs\"].map(label2id).fillna(0).astype(int).tolist()\n",
    "llama_labels[:10]"
   ]
  },
  {
   "cell_type": "markdown",
   "id": "7d916ee1",
   "metadata": {
    "papermill": {
     "duration": 0.005801,
     "end_time": "2025-04-30T01:39:02.277703",
     "exception": false,
     "start_time": "2025-04-30T01:39:02.271902",
     "status": "completed"
    },
    "tags": []
   },
   "source": [
    "## Delete Model, Tokenizer and Clear Memory"
   ]
  },
  {
   "cell_type": "code",
   "execution_count": 10,
   "id": "d45180fb",
   "metadata": {
    "execution": {
     "iopub.execute_input": "2025-04-30T01:39:02.289642Z",
     "iopub.status.busy": "2025-04-30T01:39:02.289158Z",
     "iopub.status.idle": "2025-04-30T01:39:07.816079Z",
     "shell.execute_reply": "2025-04-30T01:39:07.815496Z"
    },
    "papermill": {
     "duration": 5.534062,
     "end_time": "2025-04-30T01:39:07.817261",
     "exception": false,
     "start_time": "2025-04-30T01:39:02.283199",
     "status": "completed"
    },
    "tags": []
   },
   "outputs": [],
   "source": [
    "del model, tokenizer\n",
    "clean_memory()"
   ]
  },
  {
   "cell_type": "markdown",
   "id": "a2184f0f",
   "metadata": {
    "papermill": {
     "duration": 0.006117,
     "end_time": "2025-04-30T01:39:07.829535",
     "exception": false,
     "start_time": "2025-04-30T01:39:07.823418",
     "status": "completed"
    },
    "tags": []
   },
   "source": [
    "# T5"
   ]
  },
  {
   "cell_type": "markdown",
   "id": "d8361730",
   "metadata": {
    "papermill": {
     "duration": 0.005546,
     "end_time": "2025-04-30T01:39:07.840810",
     "exception": false,
     "start_time": "2025-04-30T01:39:07.835264",
     "status": "completed"
    },
    "tags": []
   },
   "source": [
    "## Config"
   ]
  },
  {
   "cell_type": "code",
   "execution_count": 11,
   "id": "93b9a396",
   "metadata": {
    "execution": {
     "iopub.execute_input": "2025-04-30T01:39:07.855851Z",
     "iopub.status.busy": "2025-04-30T01:39:07.855611Z",
     "iopub.status.idle": "2025-04-30T01:39:07.859074Z",
     "shell.execute_reply": "2025-04-30T01:39:07.858518Z"
    },
    "papermill": {
     "duration": 0.01377,
     "end_time": "2025-04-30T01:39:07.860197",
     "exception": false,
     "start_time": "2025-04-30T01:39:07.846427",
     "status": "completed"
    },
    "tags": []
   },
   "outputs": [],
   "source": [
    "BATCH_SIZE_PER_DEVICE = 32\n",
    "MAX_TARGET_LENGTH = 32\n",
    "prefix = \"Classify this math problem: \"\n",
    "t5_model_dir = \"/kaggle/input/saved-models/ensemble/t5-model\""
   ]
  },
  {
   "cell_type": "markdown",
   "id": "9561223a",
   "metadata": {
    "papermill": {
     "duration": 0.005374,
     "end_time": "2025-04-30T01:39:07.871097",
     "exception": false,
     "start_time": "2025-04-30T01:39:07.865723",
     "status": "completed"
    },
    "tags": []
   },
   "source": [
    "## Load Model, Tokenizer, and Setup Pipeline"
   ]
  },
  {
   "cell_type": "code",
   "execution_count": 12,
   "id": "68a227a5",
   "metadata": {
    "execution": {
     "iopub.execute_input": "2025-04-30T01:39:07.883342Z",
     "iopub.status.busy": "2025-04-30T01:39:07.882725Z",
     "iopub.status.idle": "2025-04-30T01:39:15.753035Z",
     "shell.execute_reply": "2025-04-30T01:39:15.752157Z"
    },
    "papermill": {
     "duration": 7.877482,
     "end_time": "2025-04-30T01:39:15.754220",
     "exception": false,
     "start_time": "2025-04-30T01:39:07.876738",
     "status": "completed"
    },
    "tags": []
   },
   "outputs": [
    {
     "name": "stdout",
     "output_type": "stream",
     "text": [
      "\n",
      "Loading fine-tuned T5 model and tokenizer from /kaggle/input/saved-models/ensemble/t5-model...\n"
     ]
    },
    {
     "name": "stderr",
     "output_type": "stream",
     "text": [
      "Device set to use cuda:0\n"
     ]
    },
    {
     "name": "stdout",
     "output_type": "stream",
     "text": [
      "Model and tokenizer reloaded successfully.\n"
     ]
    }
   ],
   "source": [
    "print(f\"\\nLoading fine-tuned T5 model and tokenizer from {t5_model_dir}...\")\n",
    "tokenizer = AutoTokenizer.from_pretrained(t5_model_dir)\n",
    "\n",
    "device = 0\n",
    "model = AutoModelForSeq2SeqLM.from_pretrained(t5_model_dir).to(f\"cuda:{device}\")\n",
    "model.eval()\n",
    "\n",
    "print(\"Model and tokenizer reloaded successfully.\")\n",
    "\n",
    "classifier_pipeline = pipeline(\n",
    "    \"text2text-generation\",\n",
    "    model=model,\n",
    "    tokenizer=tokenizer,\n",
    "    device=device\n",
    ")"
   ]
  },
  {
   "cell_type": "markdown",
   "id": "c5827179",
   "metadata": {
    "papermill": {
     "duration": 0.005744,
     "end_time": "2025-04-30T01:39:15.766105",
     "exception": false,
     "start_time": "2025-04-30T01:39:15.760361",
     "status": "completed"
    },
    "tags": []
   },
   "source": [
    "# Make Predictions on Test Set"
   ]
  },
  {
   "cell_type": "code",
   "execution_count": 13,
   "id": "48b443a8",
   "metadata": {
    "execution": {
     "iopub.execute_input": "2025-04-30T01:39:15.778480Z",
     "iopub.status.busy": "2025-04-30T01:39:15.778219Z",
     "iopub.status.idle": "2025-04-30T01:44:47.490935Z",
     "shell.execute_reply": "2025-04-30T01:44:47.490122Z"
    },
    "papermill": {
     "duration": 331.726641,
     "end_time": "2025-04-30T01:44:47.498512",
     "exception": false,
     "start_time": "2025-04-30T01:39:15.771871",
     "status": "completed"
    },
    "tags": []
   },
   "outputs": [
    {
     "name": "stdout",
     "output_type": "stream",
     "text": [
      "\n",
      "Predicting on the test set using pipeline...\n"
     ]
    },
    {
     "data": {
      "application/vnd.jupyter.widget-view+json": {
       "model_id": "9d018c80faf849bbb9f46c17be1ff730",
       "version_major": 2,
       "version_minor": 0
      },
      "text/plain": [
       "  0%|          | 0/12 [00:00<?, ?it/s]"
      ]
     },
     "metadata": {},
     "output_type": "display_data"
    },
    {
     "name": "stderr",
     "output_type": "stream",
     "text": [
      "You seem to be using the pipelines sequentially on GPU. In order to maximize efficiency please use a dataset\n"
     ]
    },
    {
     "name": "stdout",
     "output_type": "stream",
     "text": [
      "\n",
      "Number of predictions: 3044\n",
      "['Algebra', 'Number Theory', 'Calculus and Analysis', 'Number Theory', 'Number Theory', 'Geometry and Trigonometry', 'Number Theory', 'Geometry and Trigonometry', 'Algebra', 'Algebra']\n"
     ]
    }
   ],
   "source": [
    "print(\"\\nPredicting on the test set using pipeline...\")\n",
    "\n",
    "test_questions = test_df['Question'].tolist()\n",
    "prefixed_test_questions = [prefix + q for q in test_questions]\n",
    "\n",
    "pipeline_batch_size = BATCH_SIZE_PER_DEVICE * 8\n",
    "raw_predictions = []\n",
    "for i in tqdm(range(0, len(prefixed_test_questions), pipeline_batch_size)):\n",
    "    batch = prefixed_test_questions[i:i + pipeline_batch_size]\n",
    "    raw_predictions.extend(classifier_pipeline(batch, max_length=MAX_TARGET_LENGTH, clean_up_tokenization_spaces=True))\n",
    "\n",
    "predicted_label_names = [pred['generated_text'].strip() for pred in raw_predictions]\n",
    "\n",
    "print(f\"\\nNumber of predictions: {len(predicted_label_names)}\")\n",
    "print(predicted_label_names[:10])"
   ]
  },
  {
   "cell_type": "code",
   "execution_count": 14,
   "id": "3a93535e",
   "metadata": {
    "execution": {
     "iopub.execute_input": "2025-04-30T01:44:47.513044Z",
     "iopub.status.busy": "2025-04-30T01:44:47.512816Z",
     "iopub.status.idle": "2025-04-30T01:44:47.519201Z",
     "shell.execute_reply": "2025-04-30T01:44:47.518663Z"
    },
    "papermill": {
     "duration": 0.015607,
     "end_time": "2025-04-30T01:44:47.520229",
     "exception": false,
     "start_time": "2025-04-30T01:44:47.504622",
     "status": "completed"
    },
    "tags": []
   },
   "outputs": [
    {
     "data": {
      "text/plain": [
       "[0, 4, 2, 4, 4, 1, 4, 1, 0, 0]"
      ]
     },
     "execution_count": 14,
     "metadata": {},
     "output_type": "execute_result"
    }
   ],
   "source": [
    "cleaned_preds = predicted_label_names[:]\n",
    "\n",
    "predicted_labels = []\n",
    "unknown_count = 0\n",
    "for pred_name in cleaned_preds:\n",
    "    if pred_name in label2id:\n",
    "        predicted_labels.append(label2id[pred_name])\n",
    "    else:\n",
    "        predicted_labels.append(0)\n",
    "        unknown_count += 1\n",
    "        print(f\"Warning: Generated unknown label name '{pred_name}'. Assigned default 0.\")\n",
    "\n",
    "if unknown_count > 0:\n",
    "     print(f\"Total unknown labels generated: {unknown_count}\")\n",
    "\n",
    "t5_labels = predicted_labels[:]\n",
    "t5_labels[:10]"
   ]
  },
  {
   "cell_type": "markdown",
   "id": "9a8ca766",
   "metadata": {
    "papermill": {
     "duration": 0.005855,
     "end_time": "2025-04-30T01:44:47.532287",
     "exception": false,
     "start_time": "2025-04-30T01:44:47.526432",
     "status": "completed"
    },
    "tags": []
   },
   "source": [
    "## Delete Model Objects"
   ]
  },
  {
   "cell_type": "code",
   "execution_count": 15,
   "id": "972d6bc3",
   "metadata": {
    "execution": {
     "iopub.execute_input": "2025-04-30T01:44:47.545194Z",
     "iopub.status.busy": "2025-04-30T01:44:47.544830Z",
     "iopub.status.idle": "2025-04-30T01:44:53.025063Z",
     "shell.execute_reply": "2025-04-30T01:44:53.024504Z"
    },
    "papermill": {
     "duration": 5.488094,
     "end_time": "2025-04-30T01:44:53.026329",
     "exception": false,
     "start_time": "2025-04-30T01:44:47.538235",
     "status": "completed"
    },
    "tags": []
   },
   "outputs": [],
   "source": [
    "del model, tokenizer\n",
    "clean_memory()"
   ]
  },
  {
   "cell_type": "markdown",
   "id": "5483ef8c",
   "metadata": {
    "papermill": {
     "duration": 0.006065,
     "end_time": "2025-04-30T01:44:53.038993",
     "exception": false,
     "start_time": "2025-04-30T01:44:53.032928",
     "status": "completed"
    },
    "tags": []
   },
   "source": [
    "# Deberta-V3-base"
   ]
  },
  {
   "cell_type": "markdown",
   "id": "ded302e0",
   "metadata": {
    "papermill": {
     "duration": 0.005808,
     "end_time": "2025-04-30T01:44:53.051105",
     "exception": false,
     "start_time": "2025-04-30T01:44:53.045297",
     "status": "completed"
    },
    "tags": []
   },
   "source": [
    "## Config"
   ]
  },
  {
   "cell_type": "code",
   "execution_count": 16,
   "id": "16bf9cc8",
   "metadata": {
    "execution": {
     "iopub.execute_input": "2025-04-30T01:44:53.063836Z",
     "iopub.status.busy": "2025-04-30T01:44:53.063616Z",
     "iopub.status.idle": "2025-04-30T01:44:53.066788Z",
     "shell.execute_reply": "2025-04-30T01:44:53.066270Z"
    },
    "papermill": {
     "duration": 0.010763,
     "end_time": "2025-04-30T01:44:53.067800",
     "exception": false,
     "start_time": "2025-04-30T01:44:53.057037",
     "status": "completed"
    },
    "tags": []
   },
   "outputs": [],
   "source": [
    "MAX_LENGTH = 512\n",
    "deberta_labels = []\n",
    "EVAL_BATCH_SIZE = 32\n",
    "deberta_model_dir = \"/kaggle/input/saved-models/ensemble/deberta-model\""
   ]
  },
  {
   "cell_type": "markdown",
   "id": "6e7ca7b7",
   "metadata": {
    "papermill": {
     "duration": 0.005904,
     "end_time": "2025-04-30T01:44:53.079669",
     "exception": false,
     "start_time": "2025-04-30T01:44:53.073765",
     "status": "completed"
    },
    "tags": []
   },
   "source": [
    "## Preprocessing function"
   ]
  },
  {
   "cell_type": "code",
   "execution_count": 17,
   "id": "e08b7994",
   "metadata": {
    "execution": {
     "iopub.execute_input": "2025-04-30T01:44:53.092267Z",
     "iopub.status.busy": "2025-04-30T01:44:53.092068Z",
     "iopub.status.idle": "2025-04-30T01:44:53.096306Z",
     "shell.execute_reply": "2025-04-30T01:44:53.095681Z"
    },
    "papermill": {
     "duration": 0.011845,
     "end_time": "2025-04-30T01:44:53.097400",
     "exception": false,
     "start_time": "2025-04-30T01:44:53.085555",
     "status": "completed"
    },
    "tags": []
   },
   "outputs": [],
   "source": [
    "def clean_math_text_final(text):\n",
    "    \n",
    "    text = str(text)\n",
    "    text = re.sub(r'^\\s*\\d+\\.\\s*', '', text)\n",
    "    text = re.sub(r'https?://\\S+|www\\.\\S+', ' ', text)\n",
    "    text = re.sub(r'#\\w+', ' ', text)\n",
    "    emoji_pattern = re.compile(\"[\"\n",
    "                           u\"\\U0001F600-\\U0001F64F\"\n",
    "                           u\"\\U0001F300-\\U0001F5FF\"\n",
    "                           u\"\\U0001F680-\\U0001F6FF\"\n",
    "                           u\"\\U0001F1E0-\\U0001F1FF\"\n",
    "                           u\"\\U00002702-\\U000027B0\"\n",
    "                           u\"\\U000024C2-\\U0001F251\"\n",
    "                           \"]+\", flags=re.UNICODE)\n",
    "    text = emoji_pattern.sub(r' ', text)\n",
    "    text = re.sub(r'\\s+', ' ', text).strip().lower()\n",
    "\n",
    "    return text"
   ]
  },
  {
   "cell_type": "markdown",
   "id": "8763c089",
   "metadata": {
    "papermill": {
     "duration": 0.005758,
     "end_time": "2025-04-30T01:44:53.109189",
     "exception": false,
     "start_time": "2025-04-30T01:44:53.103431",
     "status": "completed"
    },
    "tags": []
   },
   "source": [
    "## Load Model and Tokenizer"
   ]
  },
  {
   "cell_type": "code",
   "execution_count": 18,
   "id": "f3d089b8",
   "metadata": {
    "execution": {
     "iopub.execute_input": "2025-04-30T01:44:53.121788Z",
     "iopub.status.busy": "2025-04-30T01:44:53.121595Z",
     "iopub.status.idle": "2025-04-30T01:45:00.222108Z",
     "shell.execute_reply": "2025-04-30T01:45:00.221440Z"
    },
    "papermill": {
     "duration": 7.108067,
     "end_time": "2025-04-30T01:45:00.223171",
     "exception": false,
     "start_time": "2025-04-30T01:44:53.115104",
     "status": "completed"
    },
    "tags": []
   },
   "outputs": [
    {
     "name": "stdout",
     "output_type": "stream",
     "text": [
      "Using device: cuda to load deberta model\n",
      "Tokenizer loaded.\n",
      "Model loaded.\n",
      "Model moved to cuda.\n"
     ]
    },
    {
     "data": {
      "text/plain": [
       "DebertaV2ForSequenceClassification(\n",
       "  (deberta): DebertaV2Model(\n",
       "    (embeddings): DebertaV2Embeddings(\n",
       "      (word_embeddings): Embedding(128100, 768, padding_idx=0)\n",
       "      (LayerNorm): LayerNorm((768,), eps=1e-07, elementwise_affine=True)\n",
       "      (dropout): Dropout(p=0.1, inplace=False)\n",
       "    )\n",
       "    (encoder): DebertaV2Encoder(\n",
       "      (layer): ModuleList(\n",
       "        (0-11): 12 x DebertaV2Layer(\n",
       "          (attention): DebertaV2Attention(\n",
       "            (self): DisentangledSelfAttention(\n",
       "              (query_proj): Linear(in_features=768, out_features=768, bias=True)\n",
       "              (key_proj): Linear(in_features=768, out_features=768, bias=True)\n",
       "              (value_proj): Linear(in_features=768, out_features=768, bias=True)\n",
       "              (pos_dropout): Dropout(p=0.1, inplace=False)\n",
       "              (dropout): Dropout(p=0.1, inplace=False)\n",
       "            )\n",
       "            (output): DebertaV2SelfOutput(\n",
       "              (dense): Linear(in_features=768, out_features=768, bias=True)\n",
       "              (LayerNorm): LayerNorm((768,), eps=1e-07, elementwise_affine=True)\n",
       "              (dropout): Dropout(p=0.1, inplace=False)\n",
       "            )\n",
       "          )\n",
       "          (intermediate): DebertaV2Intermediate(\n",
       "            (dense): Linear(in_features=768, out_features=3072, bias=True)\n",
       "            (intermediate_act_fn): GELUActivation()\n",
       "          )\n",
       "          (output): DebertaV2Output(\n",
       "            (dense): Linear(in_features=3072, out_features=768, bias=True)\n",
       "            (LayerNorm): LayerNorm((768,), eps=1e-07, elementwise_affine=True)\n",
       "            (dropout): Dropout(p=0.1, inplace=False)\n",
       "          )\n",
       "        )\n",
       "      )\n",
       "      (rel_embeddings): Embedding(512, 768)\n",
       "      (LayerNorm): LayerNorm((768,), eps=1e-07, elementwise_affine=True)\n",
       "    )\n",
       "  )\n",
       "  (pooler): ContextPooler(\n",
       "    (dense): Linear(in_features=768, out_features=768, bias=True)\n",
       "    (dropout): Dropout(p=0, inplace=False)\n",
       "  )\n",
       "  (classifier): Linear(in_features=768, out_features=8, bias=True)\n",
       "  (dropout): Dropout(p=0.1, inplace=False)\n",
       ")"
      ]
     },
     "execution_count": 18,
     "metadata": {},
     "output_type": "execute_result"
    }
   ],
   "source": [
    "device = torch.device(\"cuda\" if torch.cuda.is_available() else \"cpu\")\n",
    "print(f\"Using device: {device} to load deberta model\")\n",
    "\n",
    "\n",
    "tokenizer = AutoTokenizer.from_pretrained(deberta_model_dir)\n",
    "print(\"Tokenizer loaded.\")\n",
    "\n",
    "model = AutoModelForSequenceClassification.from_pretrained(deberta_model_dir)\n",
    "print(\"Model loaded.\")\n",
    "model.to(device)\n",
    "print(f\"Model moved to {device}.\")\n",
    "\n",
    "model.eval()"
   ]
  },
  {
   "cell_type": "markdown",
   "id": "5c63a89c",
   "metadata": {
    "papermill": {
     "duration": 0.006167,
     "end_time": "2025-04-30T01:45:00.236047",
     "exception": false,
     "start_time": "2025-04-30T01:45:00.229880",
     "status": "completed"
    },
    "tags": []
   },
   "source": [
    "## Setup Trainer"
   ]
  },
  {
   "cell_type": "code",
   "execution_count": 19,
   "id": "23d75ea9",
   "metadata": {
    "execution": {
     "iopub.execute_input": "2025-04-30T01:45:00.249685Z",
     "iopub.status.busy": "2025-04-30T01:45:00.249184Z",
     "iopub.status.idle": "2025-04-30T01:45:00.290422Z",
     "shell.execute_reply": "2025-04-30T01:45:00.289705Z"
    },
    "papermill": {
     "duration": 0.049346,
     "end_time": "2025-04-30T01:45:00.291577",
     "exception": false,
     "start_time": "2025-04-30T01:45:00.242231",
     "status": "completed"
    },
    "tags": []
   },
   "outputs": [
    {
     "name": "stderr",
     "output_type": "stream",
     "text": [
      "/tmp/ipykernel_19/836617865.py:9: FutureWarning: `tokenizer` is deprecated and will be removed in version 5.0.0 for `Trainer.__init__`. Use `processing_class` instead.\n",
      "  trainer = Trainer(\n"
     ]
    }
   ],
   "source": [
    "training_args = TrainingArguments(\n",
    "    output_dir=\"./\",\n",
    "    push_to_hub=False,\n",
    "    per_device_eval_batch_size=EVAL_BATCH_SIZE,\n",
    "    report_to=\"none\",\n",
    "    fp16=True\n",
    ")\n",
    "\n",
    "trainer = Trainer(\n",
    "    model=model,\n",
    "    args=training_args,\n",
    "    tokenizer=tokenizer\n",
    ")"
   ]
  },
  {
   "cell_type": "markdown",
   "id": "3b497a07",
   "metadata": {
    "papermill": {
     "duration": 0.006094,
     "end_time": "2025-04-30T01:45:00.303972",
     "exception": false,
     "start_time": "2025-04-30T01:45:00.297878",
     "status": "completed"
    },
    "tags": []
   },
   "source": [
    "## Make Predictions on Test Set"
   ]
  },
  {
   "cell_type": "code",
   "execution_count": 20,
   "id": "4ff8d00c",
   "metadata": {
    "execution": {
     "iopub.execute_input": "2025-04-30T01:45:00.317374Z",
     "iopub.status.busy": "2025-04-30T01:45:00.317160Z",
     "iopub.status.idle": "2025-04-30T01:46:23.035738Z",
     "shell.execute_reply": "2025-04-30T01:46:23.035125Z"
    },
    "papermill": {
     "duration": 82.726603,
     "end_time": "2025-04-30T01:46:23.036806",
     "exception": false,
     "start_time": "2025-04-30T01:45:00.310203",
     "status": "completed"
    },
    "tags": []
   },
   "outputs": [
    {
     "name": "stdout",
     "output_type": "stream",
     "text": [
      "Cleaning test data...\n",
      "Cleaning complete.\n",
      "Test data converted to Dataset format.\n",
      "Dataset({\n",
      "    features: ['cleaned_question'],\n",
      "    num_rows: 3044\n",
      "})\n",
      "\n",
      "--- Tokenizing Competition Test Set ---\n"
     ]
    },
    {
     "data": {
      "application/vnd.jupyter.widget-view+json": {
       "model_id": "ba0af6f862b84f06aa5ccd153c67a7ed",
       "version_major": 2,
       "version_minor": 0
      },
      "text/plain": [
       "Map:   0%|          | 0/3044 [00:00<?, ? examples/s]"
      ]
     },
     "metadata": {},
     "output_type": "display_data"
    },
    {
     "name": "stdout",
     "output_type": "stream",
     "text": [
      "Tokenization complete.\n",
      "\n",
      "--- Making Predictions ---\n"
     ]
    },
    {
     "data": {
      "text/html": [],
      "text/plain": [
       "<IPython.core.display.HTML object>"
      ]
     },
     "metadata": {},
     "output_type": "display_data"
    },
    {
     "name": "stdout",
     "output_type": "stream",
     "text": [
      "Predictions generated.\n"
     ]
    },
    {
     "data": {
      "text/plain": [
       "[0, 4, 2, 0, 4, 1, 4, 1, 0, 2]"
      ]
     },
     "execution_count": 20,
     "metadata": {},
     "output_type": "execute_result"
    }
   ],
   "source": [
    "comp_test_df = test_df.copy()\n",
    "\n",
    "print(\"Cleaning test data...\")\n",
    "comp_test_df['cleaned_question'] = comp_test_df['Question'].apply(clean_math_text_final)\n",
    "print(\"Cleaning complete.\")\n",
    "\n",
    "predict_dataset = Dataset.from_pandas(comp_test_df[['cleaned_question']])\n",
    "print(\"Test data converted to Dataset format.\")\n",
    "print(predict_dataset)\n",
    "\n",
    "def tokenize_for_predict(examples):\n",
    "    return tokenizer(examples[\"cleaned_question\"],\n",
    "                     padding=\"max_length\",\n",
    "                     truncation=True,\n",
    "                     max_length=MAX_LENGTH)\n",
    "\n",
    "print(\"\\n--- Tokenizing Competition Test Set ---\")\n",
    "tokenized_predict_dataset = predict_dataset.map(tokenize_for_predict, batched=True)\n",
    "\n",
    "tokenized_predict_dataset = tokenized_predict_dataset.remove_columns([\"cleaned_question\"])\n",
    "tokenized_predict_dataset.set_format(\"torch\")\n",
    "print(\"Tokenization complete.\")\n",
    "\n",
    "print(\"\\n--- Making Predictions ---\")\n",
    "predictions_output = trainer.predict(tokenized_predict_dataset)\n",
    "\n",
    "logits = predictions_output.predictions\n",
    "\n",
    "predicted_labels = np.argmax(logits, axis=-1)\n",
    "print(\"Predictions generated.\")\n",
    "\n",
    "deberta_labels = [i for i in predicted_labels]\n",
    "deberta_labels[:10]"
   ]
  },
  {
   "cell_type": "markdown",
   "id": "3b93598b",
   "metadata": {
    "papermill": {
     "duration": 0.00703,
     "end_time": "2025-04-30T01:46:23.050919",
     "exception": false,
     "start_time": "2025-04-30T01:46:23.043889",
     "status": "completed"
    },
    "tags": []
   },
   "source": [
    "# Ensemble Predictions from Three Models"
   ]
  },
  {
   "cell_type": "code",
   "execution_count": 21,
   "id": "73394eab",
   "metadata": {
    "execution": {
     "iopub.execute_input": "2025-04-30T01:46:23.065179Z",
     "iopub.status.busy": "2025-04-30T01:46:23.064981Z",
     "iopub.status.idle": "2025-04-30T01:46:23.077594Z",
     "shell.execute_reply": "2025-04-30T01:46:23.076886Z"
    },
    "papermill": {
     "duration": 0.020997,
     "end_time": "2025-04-30T01:46:23.078762",
     "exception": false,
     "start_time": "2025-04-30T01:46:23.057765",
     "status": "completed"
    },
    "tags": []
   },
   "outputs": [],
   "source": [
    "ensemble_preds = []\n",
    "\n",
    "# Hard Voting (use deberta label if all the labels are different)\n",
    "for p1, p2, p3 in zip(llama_labels, t5_labels, deberta_labels):\n",
    "    if p1 == p2 or p1 == p3:\n",
    "        ensemble_preds.append(p1)\n",
    "    elif p2 == p3:\n",
    "        ensemble_preds.append(p2)\n",
    "    else:\n",
    "        ensemble_preds.append(p3)\n",
    "\n",
    "result = pd.DataFrame({'id': test_df[\"id\"], 'label': ensemble_preds})\n",
    "result.to_csv('submission.csv', index=False)"
   ]
  },
  {
   "cell_type": "code",
   "execution_count": 22,
   "id": "391777d0",
   "metadata": {
    "execution": {
     "iopub.execute_input": "2025-04-30T01:46:23.093161Z",
     "iopub.status.busy": "2025-04-30T01:46:23.092958Z",
     "iopub.status.idle": "2025-04-30T01:46:23.098943Z",
     "shell.execute_reply": "2025-04-30T01:46:23.098440Z"
    },
    "papermill": {
     "duration": 0.014443,
     "end_time": "2025-04-30T01:46:23.099971",
     "exception": false,
     "start_time": "2025-04-30T01:46:23.085528",
     "status": "completed"
    },
    "tags": []
   },
   "outputs": [
    {
     "data": {
      "text/html": [
       "<div>\n",
       "<style scoped>\n",
       "    .dataframe tbody tr th:only-of-type {\n",
       "        vertical-align: middle;\n",
       "    }\n",
       "\n",
       "    .dataframe tbody tr th {\n",
       "        vertical-align: top;\n",
       "    }\n",
       "\n",
       "    .dataframe thead th {\n",
       "        text-align: right;\n",
       "    }\n",
       "</style>\n",
       "<table border=\"1\" class=\"dataframe\">\n",
       "  <thead>\n",
       "    <tr style=\"text-align: right;\">\n",
       "      <th></th>\n",
       "      <th>id</th>\n",
       "      <th>label</th>\n",
       "    </tr>\n",
       "  </thead>\n",
       "  <tbody>\n",
       "    <tr>\n",
       "      <th>0</th>\n",
       "      <td>0</td>\n",
       "      <td>0</td>\n",
       "    </tr>\n",
       "    <tr>\n",
       "      <th>1</th>\n",
       "      <td>1</td>\n",
       "      <td>4</td>\n",
       "    </tr>\n",
       "    <tr>\n",
       "      <th>2</th>\n",
       "      <td>2</td>\n",
       "      <td>2</td>\n",
       "    </tr>\n",
       "    <tr>\n",
       "      <th>3</th>\n",
       "      <td>3</td>\n",
       "      <td>0</td>\n",
       "    </tr>\n",
       "    <tr>\n",
       "      <th>4</th>\n",
       "      <td>4</td>\n",
       "      <td>4</td>\n",
       "    </tr>\n",
       "  </tbody>\n",
       "</table>\n",
       "</div>"
      ],
      "text/plain": [
       "   id  label\n",
       "0   0      0\n",
       "1   1      4\n",
       "2   2      2\n",
       "3   3      0\n",
       "4   4      4"
      ]
     },
     "execution_count": 22,
     "metadata": {},
     "output_type": "execute_result"
    }
   ],
   "source": [
    "result.head()"
   ]
  }
 ],
 "metadata": {
  "kaggle": {
   "accelerator": "nvidiaTeslaT4",
   "dataSources": [
    {
     "databundleVersionId": 11615683,
     "sourceId": 97669,
     "sourceType": "competition"
    },
    {
     "datasetId": 7288717,
     "sourceId": 11618618,
     "sourceType": "datasetVersion"
    }
   ],
   "dockerImageVersionId": 31011,
   "isGpuEnabled": true,
   "isInternetEnabled": true,
   "language": "python",
   "sourceType": "notebook"
  },
  "kernelspec": {
   "display_name": "Python 3",
   "language": "python",
   "name": "python3"
  },
  "language_info": {
   "codemirror_mode": {
    "name": "ipython",
    "version": 3
   },
   "file_extension": ".py",
   "mimetype": "text/x-python",
   "name": "python",
   "nbconvert_exporter": "python",
   "pygments_lexer": "ipython3",
   "version": "3.11.11"
  },
  "papermill": {
   "default_parameters": {},
   "duration": 1268.264917,
   "end_time": "2025-04-30T01:46:26.026262",
   "environment_variables": {},
   "exception": null,
   "input_path": "__notebook__.ipynb",
   "output_path": "__notebook__.ipynb",
   "parameters": {},
   "start_time": "2025-04-30T01:25:17.761345",
   "version": "2.6.0"
  },
  "widgets": {
   "application/vnd.jupyter.widget-state+json": {
    "state": {
     "04675d4f9b0247b69f06eef429b44abc": {
      "model_module": "@jupyter-widgets/controls",
      "model_module_version": "2.0.0",
      "model_name": "HTMLModel",
      "state": {
       "_dom_classes": [],
       "_model_module": "@jupyter-widgets/controls",
       "_model_module_version": "2.0.0",
       "_model_name": "HTMLModel",
       "_view_count": null,
       "_view_module": "@jupyter-widgets/controls",
       "_view_module_version": "2.0.0",
       "_view_name": "HTMLView",
       "description": "",
       "description_allow_html": false,
       "layout": "IPY_MODEL_e454dbc696ce415eb7cd4e8d53326fda",
       "placeholder": "​",
       "style": "IPY_MODEL_7430927f1cb24e648fbf4954e9981ef6",
       "tabbable": null,
       "tooltip": null,
       "value": " 12/12 [05:31&lt;00:00, 26.84s/it]"
      }
     },
     "0d67f91f166f408e8d454d9e42c94077": {
      "model_module": "@jupyter-widgets/base",
      "model_module_version": "2.0.0",
      "model_name": "LayoutModel",
      "state": {
       "_model_module": "@jupyter-widgets/base",
       "_model_module_version": "2.0.0",
       "_model_name": "LayoutModel",
       "_view_count": null,
       "_view_module": "@jupyter-widgets/base",
       "_view_module_version": "2.0.0",
       "_view_name": "LayoutView",
       "align_content": null,
       "align_items": null,
       "align_self": null,
       "border_bottom": null,
       "border_left": null,
       "border_right": null,
       "border_top": null,
       "bottom": null,
       "display": null,
       "flex": null,
       "flex_flow": null,
       "grid_area": null,
       "grid_auto_columns": null,
       "grid_auto_flow": null,
       "grid_auto_rows": null,
       "grid_column": null,
       "grid_gap": null,
       "grid_row": null,
       "grid_template_areas": null,
       "grid_template_columns": null,
       "grid_template_rows": null,
       "height": null,
       "justify_content": null,
       "justify_items": null,
       "left": null,
       "margin": null,
       "max_height": null,
       "max_width": null,
       "min_height": null,
       "min_width": null,
       "object_fit": null,
       "object_position": null,
       "order": null,
       "overflow": null,
       "padding": null,
       "right": null,
       "top": null,
       "visibility": null,
       "width": null
      }
     },
     "10d78aa5d1df4d86abf5218bda69a8cf": {
      "model_module": "@jupyter-widgets/controls",
      "model_module_version": "2.0.0",
      "model_name": "HBoxModel",
      "state": {
       "_dom_classes": [],
       "_model_module": "@jupyter-widgets/controls",
       "_model_module_version": "2.0.0",
       "_model_name": "HBoxModel",
       "_view_count": null,
       "_view_module": "@jupyter-widgets/controls",
       "_view_module_version": "2.0.0",
       "_view_name": "HBoxView",
       "box_style": "",
       "children": [
        "IPY_MODEL_ed1349ba355a4d89a2076e9f9d27b63d",
        "IPY_MODEL_1e0f4d7d740444808362b9807b554380",
        "IPY_MODEL_f9b96c425bef436391d2b2ce94de86b7"
       ],
       "layout": "IPY_MODEL_7d475a6009ad4cdfb3604965f1cc9d61",
       "tabbable": null,
       "tooltip": null
      }
     },
     "12ba1bf0f7bb45c58093c7bf8cccd01f": {
      "model_module": "@jupyter-widgets/controls",
      "model_module_version": "2.0.0",
      "model_name": "HBoxModel",
      "state": {
       "_dom_classes": [],
       "_model_module": "@jupyter-widgets/controls",
       "_model_module_version": "2.0.0",
       "_model_name": "HBoxModel",
       "_view_count": null,
       "_view_module": "@jupyter-widgets/controls",
       "_view_module_version": "2.0.0",
       "_view_name": "HBoxView",
       "box_style": "",
       "children": [
        "IPY_MODEL_b72c9232d4854091a6c672b54a41ac86",
        "IPY_MODEL_63e52bb7cfef4995a740fb63eee2c8ff",
        "IPY_MODEL_2cf78c33cdc546efaaec90b65b9fef88"
       ],
       "layout": "IPY_MODEL_4b9686506fc040a4a05898b48c9bafb1",
       "tabbable": null,
       "tooltip": null
      }
     },
     "16ec48beb11547ec8f6d1f6792ed7c34": {
      "model_module": "@jupyter-widgets/base",
      "model_module_version": "2.0.0",
      "model_name": "LayoutModel",
      "state": {
       "_model_module": "@jupyter-widgets/base",
       "_model_module_version": "2.0.0",
       "_model_name": "LayoutModel",
       "_view_count": null,
       "_view_module": "@jupyter-widgets/base",
       "_view_module_version": "2.0.0",
       "_view_name": "LayoutView",
       "align_content": null,
       "align_items": null,
       "align_self": null,
       "border_bottom": null,
       "border_left": null,
       "border_right": null,
       "border_top": null,
       "bottom": null,
       "display": null,
       "flex": null,
       "flex_flow": null,
       "grid_area": null,
       "grid_auto_columns": null,
       "grid_auto_flow": null,
       "grid_auto_rows": null,
       "grid_column": null,
       "grid_gap": null,
       "grid_row": null,
       "grid_template_areas": null,
       "grid_template_columns": null,
       "grid_template_rows": null,
       "height": null,
       "justify_content": null,
       "justify_items": null,
       "left": null,
       "margin": null,
       "max_height": null,
       "max_width": null,
       "min_height": null,
       "min_width": null,
       "object_fit": null,
       "object_position": null,
       "order": null,
       "overflow": null,
       "padding": null,
       "right": null,
       "top": null,
       "visibility": null,
       "width": null
      }
     },
     "1ce7a93694e14d1abe94632297fc0fc1": {
      "model_module": "@jupyter-widgets/controls",
      "model_module_version": "2.0.0",
      "model_name": "HTMLStyleModel",
      "state": {
       "_model_module": "@jupyter-widgets/controls",
       "_model_module_version": "2.0.0",
       "_model_name": "HTMLStyleModel",
       "_view_count": null,
       "_view_module": "@jupyter-widgets/base",
       "_view_module_version": "2.0.0",
       "_view_name": "StyleView",
       "background": null,
       "description_width": "",
       "font_size": null,
       "text_color": null
      }
     },
     "1e0f4d7d740444808362b9807b554380": {
      "model_module": "@jupyter-widgets/controls",
      "model_module_version": "2.0.0",
      "model_name": "FloatProgressModel",
      "state": {
       "_dom_classes": [],
       "_model_module": "@jupyter-widgets/controls",
       "_model_module_version": "2.0.0",
       "_model_name": "FloatProgressModel",
       "_view_count": null,
       "_view_module": "@jupyter-widgets/controls",
       "_view_module_version": "2.0.0",
       "_view_name": "ProgressView",
       "bar_style": "success",
       "description": "",
       "description_allow_html": false,
       "layout": "IPY_MODEL_6512540894644854b16a936608c7c520",
       "max": 230.0,
       "min": 0.0,
       "orientation": "horizontal",
       "style": "IPY_MODEL_9c773a69f32345e9ae0f6173a468fdbf",
       "tabbable": null,
       "tooltip": null,
       "value": 230.0
      }
     },
     "2bae9c21e2c346d59cc268b78ae2fa3b": {
      "model_module": "@jupyter-widgets/base",
      "model_module_version": "2.0.0",
      "model_name": "LayoutModel",
      "state": {
       "_model_module": "@jupyter-widgets/base",
       "_model_module_version": "2.0.0",
       "_model_name": "LayoutModel",
       "_view_count": null,
       "_view_module": "@jupyter-widgets/base",
       "_view_module_version": "2.0.0",
       "_view_name": "LayoutView",
       "align_content": null,
       "align_items": null,
       "align_self": null,
       "border_bottom": null,
       "border_left": null,
       "border_right": null,
       "border_top": null,
       "bottom": null,
       "display": null,
       "flex": null,
       "flex_flow": null,
       "grid_area": null,
       "grid_auto_columns": null,
       "grid_auto_flow": null,
       "grid_auto_rows": null,
       "grid_column": null,
       "grid_gap": null,
       "grid_row": null,
       "grid_template_areas": null,
       "grid_template_columns": null,
       "grid_template_rows": null,
       "height": null,
       "justify_content": null,
       "justify_items": null,
       "left": null,
       "margin": null,
       "max_height": null,
       "max_width": null,
       "min_height": null,
       "min_width": null,
       "object_fit": null,
       "object_position": null,
       "order": null,
       "overflow": null,
       "padding": null,
       "right": null,
       "top": null,
       "visibility": null,
       "width": null
      }
     },
     "2cf78c33cdc546efaaec90b65b9fef88": {
      "model_module": "@jupyter-widgets/controls",
      "model_module_version": "2.0.0",
      "model_name": "HTMLModel",
      "state": {
       "_dom_classes": [],
       "_model_module": "@jupyter-widgets/controls",
       "_model_module_version": "2.0.0",
       "_model_name": "HTMLModel",
       "_view_count": null,
       "_view_module": "@jupyter-widgets/controls",
       "_view_module_version": "2.0.0",
       "_view_name": "HTMLView",
       "description": "",
       "description_allow_html": false,
       "layout": "IPY_MODEL_519d8cd831094f5a9d02603f65142c30",
       "placeholder": "​",
       "style": "IPY_MODEL_9f65312b4dc54cca8cf3ff2323bf0ae3",
       "tabbable": null,
       "tooltip": null,
       "value": " 1.10G/1.10G [00:04&lt;00:00, 233MB/s]"
      }
     },
     "32f17d76fc0e430385fe44920137be5a": {
      "model_module": "@jupyter-widgets/base",
      "model_module_version": "2.0.0",
      "model_name": "LayoutModel",
      "state": {
       "_model_module": "@jupyter-widgets/base",
       "_model_module_version": "2.0.0",
       "_model_name": "LayoutModel",
       "_view_count": null,
       "_view_module": "@jupyter-widgets/base",
       "_view_module_version": "2.0.0",
       "_view_name": "LayoutView",
       "align_content": null,
       "align_items": null,
       "align_self": null,
       "border_bottom": null,
       "border_left": null,
       "border_right": null,
       "border_top": null,
       "bottom": null,
       "display": null,
       "flex": null,
       "flex_flow": null,
       "grid_area": null,
       "grid_auto_columns": null,
       "grid_auto_flow": null,
       "grid_auto_rows": null,
       "grid_column": null,
       "grid_gap": null,
       "grid_row": null,
       "grid_template_areas": null,
       "grid_template_columns": null,
       "grid_template_rows": null,
       "height": null,
       "justify_content": null,
       "justify_items": null,
       "left": null,
       "margin": null,
       "max_height": null,
       "max_width": null,
       "min_height": null,
       "min_width": null,
       "object_fit": null,
       "object_position": null,
       "order": null,
       "overflow": null,
       "padding": null,
       "right": null,
       "top": null,
       "visibility": null,
       "width": null
      }
     },
     "33d5a701513e40c6ba46d8a877778d00": {
      "model_module": "@jupyter-widgets/controls",
      "model_module_version": "2.0.0",
      "model_name": "FloatProgressModel",
      "state": {
       "_dom_classes": [],
       "_model_module": "@jupyter-widgets/controls",
       "_model_module_version": "2.0.0",
       "_model_name": "FloatProgressModel",
       "_view_count": null,
       "_view_module": "@jupyter-widgets/controls",
       "_view_module_version": "2.0.0",
       "_view_name": "ProgressView",
       "bar_style": "success",
       "description": "",
       "description_allow_html": false,
       "layout": "IPY_MODEL_f5e9a550d00849d79616a706ed4657cc",
       "max": 3044.0,
       "min": 0.0,
       "orientation": "horizontal",
       "style": "IPY_MODEL_ab53aca1d31743cb843ab65542aa8c49",
       "tabbable": null,
       "tooltip": null,
       "value": 3044.0
      }
     },
     "47bd58f7c80d4b748b8b6d61fc8d5b7b": {
      "model_module": "@jupyter-widgets/controls",
      "model_module_version": "2.0.0",
      "model_name": "HTMLModel",
      "state": {
       "_dom_classes": [],
       "_model_module": "@jupyter-widgets/controls",
       "_model_module_version": "2.0.0",
       "_model_name": "HTMLModel",
       "_view_count": null,
       "_view_module": "@jupyter-widgets/controls",
       "_view_module_version": "2.0.0",
       "_view_name": "HTMLView",
       "description": "",
       "description_allow_html": false,
       "layout": "IPY_MODEL_32f17d76fc0e430385fe44920137be5a",
       "placeholder": "​",
       "style": "IPY_MODEL_b37f0d3fae264d4e9404403ee5dc80f6",
       "tabbable": null,
       "tooltip": null,
       "value": "100%"
      }
     },
     "4a21a73ce4724a30bbb364152091418f": {
      "model_module": "@jupyter-widgets/controls",
      "model_module_version": "2.0.0",
      "model_name": "HTMLModel",
      "state": {
       "_dom_classes": [],
       "_model_module": "@jupyter-widgets/controls",
       "_model_module_version": "2.0.0",
       "_model_name": "HTMLModel",
       "_view_count": null,
       "_view_module": "@jupyter-widgets/controls",
       "_view_module_version": "2.0.0",
       "_view_name": "HTMLView",
       "description": "",
       "description_allow_html": false,
       "layout": "IPY_MODEL_b9d99e0c6fbe4b5fb0c1947cd9e99a91",
       "placeholder": "​",
       "style": "IPY_MODEL_1ce7a93694e14d1abe94632297fc0fc1",
       "tabbable": null,
       "tooltip": null,
       "value": " 3044/3044 [00:01&lt;00:00, 2111.20 examples/s]"
      }
     },
     "4ae0d84fe3374bda8e598a4c351133be": {
      "model_module": "@jupyter-widgets/controls",
      "model_module_version": "2.0.0",
      "model_name": "HTMLModel",
      "state": {
       "_dom_classes": [],
       "_model_module": "@jupyter-widgets/controls",
       "_model_module_version": "2.0.0",
       "_model_name": "HTMLModel",
       "_view_count": null,
       "_view_module": "@jupyter-widgets/controls",
       "_view_module_version": "2.0.0",
       "_view_name": "HTMLView",
       "description": "",
       "description_allow_html": false,
       "layout": "IPY_MODEL_6abc34f3f750472689d065e4fa82895b",
       "placeholder": "​",
       "style": "IPY_MODEL_83c7cffe47024c7f860c89704510cff4",
       "tabbable": null,
       "tooltip": null,
       "value": "100%"
      }
     },
     "4b9686506fc040a4a05898b48c9bafb1": {
      "model_module": "@jupyter-widgets/base",
      "model_module_version": "2.0.0",
      "model_name": "LayoutModel",
      "state": {
       "_model_module": "@jupyter-widgets/base",
       "_model_module_version": "2.0.0",
       "_model_name": "LayoutModel",
       "_view_count": null,
       "_view_module": "@jupyter-widgets/base",
       "_view_module_version": "2.0.0",
       "_view_name": "LayoutView",
       "align_content": null,
       "align_items": null,
       "align_self": null,
       "border_bottom": null,
       "border_left": null,
       "border_right": null,
       "border_top": null,
       "bottom": null,
       "display": null,
       "flex": null,
       "flex_flow": null,
       "grid_area": null,
       "grid_auto_columns": null,
       "grid_auto_flow": null,
       "grid_auto_rows": null,
       "grid_column": null,
       "grid_gap": null,
       "grid_row": null,
       "grid_template_areas": null,
       "grid_template_columns": null,
       "grid_template_rows": null,
       "height": null,
       "justify_content": null,
       "justify_items": null,
       "left": null,
       "margin": null,
       "max_height": null,
       "max_width": null,
       "min_height": null,
       "min_width": null,
       "object_fit": null,
       "object_position": null,
       "order": null,
       "overflow": null,
       "padding": null,
       "right": null,
       "top": null,
       "visibility": null,
       "width": null
      }
     },
     "4bc1908876fa4d53902214fffe81d71a": {
      "model_module": "@jupyter-widgets/controls",
      "model_module_version": "2.0.0",
      "model_name": "ProgressStyleModel",
      "state": {
       "_model_module": "@jupyter-widgets/controls",
       "_model_module_version": "2.0.0",
       "_model_name": "ProgressStyleModel",
       "_view_count": null,
       "_view_module": "@jupyter-widgets/base",
       "_view_module_version": "2.0.0",
       "_view_name": "StyleView",
       "bar_color": null,
       "description_width": ""
      }
     },
     "4ca18af863b64b338f27d4e78d7e6210": {
      "model_module": "@jupyter-widgets/controls",
      "model_module_version": "2.0.0",
      "model_name": "HTMLStyleModel",
      "state": {
       "_model_module": "@jupyter-widgets/controls",
       "_model_module_version": "2.0.0",
       "_model_name": "HTMLStyleModel",
       "_view_count": null,
       "_view_module": "@jupyter-widgets/base",
       "_view_module_version": "2.0.0",
       "_view_name": "StyleView",
       "background": null,
       "description_width": "",
       "font_size": null,
       "text_color": null
      }
     },
     "519d8cd831094f5a9d02603f65142c30": {
      "model_module": "@jupyter-widgets/base",
      "model_module_version": "2.0.0",
      "model_name": "LayoutModel",
      "state": {
       "_model_module": "@jupyter-widgets/base",
       "_model_module_version": "2.0.0",
       "_model_name": "LayoutModel",
       "_view_count": null,
       "_view_module": "@jupyter-widgets/base",
       "_view_module_version": "2.0.0",
       "_view_name": "LayoutView",
       "align_content": null,
       "align_items": null,
       "align_self": null,
       "border_bottom": null,
       "border_left": null,
       "border_right": null,
       "border_top": null,
       "bottom": null,
       "display": null,
       "flex": null,
       "flex_flow": null,
       "grid_area": null,
       "grid_auto_columns": null,
       "grid_auto_flow": null,
       "grid_auto_rows": null,
       "grid_column": null,
       "grid_gap": null,
       "grid_row": null,
       "grid_template_areas": null,
       "grid_template_columns": null,
       "grid_template_rows": null,
       "height": null,
       "justify_content": null,
       "justify_items": null,
       "left": null,
       "margin": null,
       "max_height": null,
       "max_width": null,
       "min_height": null,
       "min_width": null,
       "object_fit": null,
       "object_position": null,
       "order": null,
       "overflow": null,
       "padding": null,
       "right": null,
       "top": null,
       "visibility": null,
       "width": null
      }
     },
     "5913a8ccd2b64cfeb2021cc3badf9817": {
      "model_module": "@jupyter-widgets/controls",
      "model_module_version": "2.0.0",
      "model_name": "ProgressStyleModel",
      "state": {
       "_model_module": "@jupyter-widgets/controls",
       "_model_module_version": "2.0.0",
       "_model_name": "ProgressStyleModel",
       "_view_count": null,
       "_view_module": "@jupyter-widgets/base",
       "_view_module_version": "2.0.0",
       "_view_name": "StyleView",
       "bar_color": null,
       "description_width": ""
      }
     },
     "5ca64d4a09994597957b3523d52330f1": {
      "model_module": "@jupyter-widgets/controls",
      "model_module_version": "2.0.0",
      "model_name": "HTMLModel",
      "state": {
       "_dom_classes": [],
       "_model_module": "@jupyter-widgets/controls",
       "_model_module_version": "2.0.0",
       "_model_name": "HTMLModel",
       "_view_count": null,
       "_view_module": "@jupyter-widgets/controls",
       "_view_module_version": "2.0.0",
       "_view_name": "HTMLView",
       "description": "",
       "description_allow_html": false,
       "layout": "IPY_MODEL_f81c57504371432ea5731dd3c88aec3e",
       "placeholder": "​",
       "style": "IPY_MODEL_fbced4188a4f44dda54a8ef45659162d",
       "tabbable": null,
       "tooltip": null,
       "value": " 3044/3044 [09:51&lt;00:00,  4.72it/s]"
      }
     },
     "60c0725571a944d692e27e997512dc0c": {
      "model_module": "@jupyter-widgets/base",
      "model_module_version": "2.0.0",
      "model_name": "LayoutModel",
      "state": {
       "_model_module": "@jupyter-widgets/base",
       "_model_module_version": "2.0.0",
       "_model_name": "LayoutModel",
       "_view_count": null,
       "_view_module": "@jupyter-widgets/base",
       "_view_module_version": "2.0.0",
       "_view_name": "LayoutView",
       "align_content": null,
       "align_items": null,
       "align_self": null,
       "border_bottom": null,
       "border_left": null,
       "border_right": null,
       "border_top": null,
       "bottom": null,
       "display": null,
       "flex": null,
       "flex_flow": null,
       "grid_area": null,
       "grid_auto_columns": null,
       "grid_auto_flow": null,
       "grid_auto_rows": null,
       "grid_column": null,
       "grid_gap": null,
       "grid_row": null,
       "grid_template_areas": null,
       "grid_template_columns": null,
       "grid_template_rows": null,
       "height": null,
       "justify_content": null,
       "justify_items": null,
       "left": null,
       "margin": null,
       "max_height": null,
       "max_width": null,
       "min_height": null,
       "min_width": null,
       "object_fit": null,
       "object_position": null,
       "order": null,
       "overflow": null,
       "padding": null,
       "right": null,
       "top": null,
       "visibility": null,
       "width": null
      }
     },
     "63e52bb7cfef4995a740fb63eee2c8ff": {
      "model_module": "@jupyter-widgets/controls",
      "model_module_version": "2.0.0",
      "model_name": "FloatProgressModel",
      "state": {
       "_dom_classes": [],
       "_model_module": "@jupyter-widgets/controls",
       "_model_module_version": "2.0.0",
       "_model_name": "FloatProgressModel",
       "_view_count": null,
       "_view_module": "@jupyter-widgets/controls",
       "_view_module_version": "2.0.0",
       "_view_name": "ProgressView",
       "bar_style": "success",
       "description": "",
       "description_allow_html": false,
       "layout": "IPY_MODEL_b0bc524a133d4ef8a69d04358882bdfd",
       "max": 1102370056.0,
       "min": 0.0,
       "orientation": "horizontal",
       "style": "IPY_MODEL_df7b2928ac664cc79a64f9f4eb27f5cd",
       "tabbable": null,
       "tooltip": null,
       "value": 1102370056.0
      }
     },
     "6512540894644854b16a936608c7c520": {
      "model_module": "@jupyter-widgets/base",
      "model_module_version": "2.0.0",
      "model_name": "LayoutModel",
      "state": {
       "_model_module": "@jupyter-widgets/base",
       "_model_module_version": "2.0.0",
       "_model_name": "LayoutModel",
       "_view_count": null,
       "_view_module": "@jupyter-widgets/base",
       "_view_module_version": "2.0.0",
       "_view_name": "LayoutView",
       "align_content": null,
       "align_items": null,
       "align_self": null,
       "border_bottom": null,
       "border_left": null,
       "border_right": null,
       "border_top": null,
       "bottom": null,
       "display": null,
       "flex": null,
       "flex_flow": null,
       "grid_area": null,
       "grid_auto_columns": null,
       "grid_auto_flow": null,
       "grid_auto_rows": null,
       "grid_column": null,
       "grid_gap": null,
       "grid_row": null,
       "grid_template_areas": null,
       "grid_template_columns": null,
       "grid_template_rows": null,
       "height": null,
       "justify_content": null,
       "justify_items": null,
       "left": null,
       "margin": null,
       "max_height": null,
       "max_width": null,
       "min_height": null,
       "min_width": null,
       "object_fit": null,
       "object_position": null,
       "order": null,
       "overflow": null,
       "padding": null,
       "right": null,
       "top": null,
       "visibility": null,
       "width": null
      }
     },
     "6abc34f3f750472689d065e4fa82895b": {
      "model_module": "@jupyter-widgets/base",
      "model_module_version": "2.0.0",
      "model_name": "LayoutModel",
      "state": {
       "_model_module": "@jupyter-widgets/base",
       "_model_module_version": "2.0.0",
       "_model_name": "LayoutModel",
       "_view_count": null,
       "_view_module": "@jupyter-widgets/base",
       "_view_module_version": "2.0.0",
       "_view_name": "LayoutView",
       "align_content": null,
       "align_items": null,
       "align_self": null,
       "border_bottom": null,
       "border_left": null,
       "border_right": null,
       "border_top": null,
       "bottom": null,
       "display": null,
       "flex": null,
       "flex_flow": null,
       "grid_area": null,
       "grid_auto_columns": null,
       "grid_auto_flow": null,
       "grid_auto_rows": null,
       "grid_column": null,
       "grid_gap": null,
       "grid_row": null,
       "grid_template_areas": null,
       "grid_template_columns": null,
       "grid_template_rows": null,
       "height": null,
       "justify_content": null,
       "justify_items": null,
       "left": null,
       "margin": null,
       "max_height": null,
       "max_width": null,
       "min_height": null,
       "min_width": null,
       "object_fit": null,
       "object_position": null,
       "order": null,
       "overflow": null,
       "padding": null,
       "right": null,
       "top": null,
       "visibility": null,
       "width": null
      }
     },
     "7430927f1cb24e648fbf4954e9981ef6": {
      "model_module": "@jupyter-widgets/controls",
      "model_module_version": "2.0.0",
      "model_name": "HTMLStyleModel",
      "state": {
       "_model_module": "@jupyter-widgets/controls",
       "_model_module_version": "2.0.0",
       "_model_name": "HTMLStyleModel",
       "_view_count": null,
       "_view_module": "@jupyter-widgets/base",
       "_view_module_version": "2.0.0",
       "_view_name": "StyleView",
       "background": null,
       "description_width": "",
       "font_size": null,
       "text_color": null
      }
     },
     "793d0fb9d97c4f66bee83dd026982894": {
      "model_module": "@jupyter-widgets/base",
      "model_module_version": "2.0.0",
      "model_name": "LayoutModel",
      "state": {
       "_model_module": "@jupyter-widgets/base",
       "_model_module_version": "2.0.0",
       "_model_name": "LayoutModel",
       "_view_count": null,
       "_view_module": "@jupyter-widgets/base",
       "_view_module_version": "2.0.0",
       "_view_name": "LayoutView",
       "align_content": null,
       "align_items": null,
       "align_self": null,
       "border_bottom": null,
       "border_left": null,
       "border_right": null,
       "border_top": null,
       "bottom": null,
       "display": null,
       "flex": null,
       "flex_flow": null,
       "grid_area": null,
       "grid_auto_columns": null,
       "grid_auto_flow": null,
       "grid_auto_rows": null,
       "grid_column": null,
       "grid_gap": null,
       "grid_row": null,
       "grid_template_areas": null,
       "grid_template_columns": null,
       "grid_template_rows": null,
       "height": null,
       "justify_content": null,
       "justify_items": null,
       "left": null,
       "margin": null,
       "max_height": null,
       "max_width": null,
       "min_height": null,
       "min_width": null,
       "object_fit": null,
       "object_position": null,
       "order": null,
       "overflow": null,
       "padding": null,
       "right": null,
       "top": null,
       "visibility": null,
       "width": null
      }
     },
     "7d475a6009ad4cdfb3604965f1cc9d61": {
      "model_module": "@jupyter-widgets/base",
      "model_module_version": "2.0.0",
      "model_name": "LayoutModel",
      "state": {
       "_model_module": "@jupyter-widgets/base",
       "_model_module_version": "2.0.0",
       "_model_name": "LayoutModel",
       "_view_count": null,
       "_view_module": "@jupyter-widgets/base",
       "_view_module_version": "2.0.0",
       "_view_name": "LayoutView",
       "align_content": null,
       "align_items": null,
       "align_self": null,
       "border_bottom": null,
       "border_left": null,
       "border_right": null,
       "border_top": null,
       "bottom": null,
       "display": null,
       "flex": null,
       "flex_flow": null,
       "grid_area": null,
       "grid_auto_columns": null,
       "grid_auto_flow": null,
       "grid_auto_rows": null,
       "grid_column": null,
       "grid_gap": null,
       "grid_row": null,
       "grid_template_areas": null,
       "grid_template_columns": null,
       "grid_template_rows": null,
       "height": null,
       "justify_content": null,
       "justify_items": null,
       "left": null,
       "margin": null,
       "max_height": null,
       "max_width": null,
       "min_height": null,
       "min_width": null,
       "object_fit": null,
       "object_position": null,
       "order": null,
       "overflow": null,
       "padding": null,
       "right": null,
       "top": null,
       "visibility": null,
       "width": null
      }
     },
     "80ab37ae229247d99d436b26d333e7a4": {
      "model_module": "@jupyter-widgets/base",
      "model_module_version": "2.0.0",
      "model_name": "LayoutModel",
      "state": {
       "_model_module": "@jupyter-widgets/base",
       "_model_module_version": "2.0.0",
       "_model_name": "LayoutModel",
       "_view_count": null,
       "_view_module": "@jupyter-widgets/base",
       "_view_module_version": "2.0.0",
       "_view_name": "LayoutView",
       "align_content": null,
       "align_items": null,
       "align_self": null,
       "border_bottom": null,
       "border_left": null,
       "border_right": null,
       "border_top": null,
       "bottom": null,
       "display": null,
       "flex": null,
       "flex_flow": null,
       "grid_area": null,
       "grid_auto_columns": null,
       "grid_auto_flow": null,
       "grid_auto_rows": null,
       "grid_column": null,
       "grid_gap": null,
       "grid_row": null,
       "grid_template_areas": null,
       "grid_template_columns": null,
       "grid_template_rows": null,
       "height": null,
       "justify_content": null,
       "justify_items": null,
       "left": null,
       "margin": null,
       "max_height": null,
       "max_width": null,
       "min_height": null,
       "min_width": null,
       "object_fit": null,
       "object_position": null,
       "order": null,
       "overflow": null,
       "padding": null,
       "right": null,
       "top": null,
       "visibility": null,
       "width": null
      }
     },
     "80afceb2f9fb4711839f28a9ca78006d": {
      "model_module": "@jupyter-widgets/controls",
      "model_module_version": "2.0.0",
      "model_name": "HBoxModel",
      "state": {
       "_dom_classes": [],
       "_model_module": "@jupyter-widgets/controls",
       "_model_module_version": "2.0.0",
       "_model_name": "HBoxModel",
       "_view_count": null,
       "_view_module": "@jupyter-widgets/controls",
       "_view_module_version": "2.0.0",
       "_view_name": "HBoxView",
       "box_style": "",
       "children": [
        "IPY_MODEL_4ae0d84fe3374bda8e598a4c351133be",
        "IPY_MODEL_e4623093a4294e06b88f049daf170858",
        "IPY_MODEL_5ca64d4a09994597957b3523d52330f1"
       ],
       "layout": "IPY_MODEL_94bdb729383b4becb77bec0fac53bfa0",
       "tabbable": null,
       "tooltip": null
      }
     },
     "83c7cffe47024c7f860c89704510cff4": {
      "model_module": "@jupyter-widgets/controls",
      "model_module_version": "2.0.0",
      "model_name": "HTMLStyleModel",
      "state": {
       "_model_module": "@jupyter-widgets/controls",
       "_model_module_version": "2.0.0",
       "_model_name": "HTMLStyleModel",
       "_view_count": null,
       "_view_module": "@jupyter-widgets/base",
       "_view_module_version": "2.0.0",
       "_view_name": "StyleView",
       "background": null,
       "description_width": "",
       "font_size": null,
       "text_color": null
      }
     },
     "8c40728b47d64f03bd5b1ffa293893c8": {
      "model_module": "@jupyter-widgets/controls",
      "model_module_version": "2.0.0",
      "model_name": "FloatProgressModel",
      "state": {
       "_dom_classes": [],
       "_model_module": "@jupyter-widgets/controls",
       "_model_module_version": "2.0.0",
       "_model_name": "FloatProgressModel",
       "_view_count": null,
       "_view_module": "@jupyter-widgets/controls",
       "_view_module_version": "2.0.0",
       "_view_name": "ProgressView",
       "bar_style": "success",
       "description": "",
       "description_allow_html": false,
       "layout": "IPY_MODEL_16ec48beb11547ec8f6d1f6792ed7c34",
       "max": 12.0,
       "min": 0.0,
       "orientation": "horizontal",
       "style": "IPY_MODEL_4bc1908876fa4d53902214fffe81d71a",
       "tabbable": null,
       "tooltip": null,
       "value": 12.0
      }
     },
     "94bdb729383b4becb77bec0fac53bfa0": {
      "model_module": "@jupyter-widgets/base",
      "model_module_version": "2.0.0",
      "model_name": "LayoutModel",
      "state": {
       "_model_module": "@jupyter-widgets/base",
       "_model_module_version": "2.0.0",
       "_model_name": "LayoutModel",
       "_view_count": null,
       "_view_module": "@jupyter-widgets/base",
       "_view_module_version": "2.0.0",
       "_view_name": "LayoutView",
       "align_content": null,
       "align_items": null,
       "align_self": null,
       "border_bottom": null,
       "border_left": null,
       "border_right": null,
       "border_top": null,
       "bottom": null,
       "display": null,
       "flex": null,
       "flex_flow": null,
       "grid_area": null,
       "grid_auto_columns": null,
       "grid_auto_flow": null,
       "grid_auto_rows": null,
       "grid_column": null,
       "grid_gap": null,
       "grid_row": null,
       "grid_template_areas": null,
       "grid_template_columns": null,
       "grid_template_rows": null,
       "height": null,
       "justify_content": null,
       "justify_items": null,
       "left": null,
       "margin": null,
       "max_height": null,
       "max_width": null,
       "min_height": null,
       "min_width": null,
       "object_fit": null,
       "object_position": null,
       "order": null,
       "overflow": null,
       "padding": null,
       "right": null,
       "top": null,
       "visibility": null,
       "width": null
      }
     },
     "9c773a69f32345e9ae0f6173a468fdbf": {
      "model_module": "@jupyter-widgets/controls",
      "model_module_version": "2.0.0",
      "model_name": "ProgressStyleModel",
      "state": {
       "_model_module": "@jupyter-widgets/controls",
       "_model_module_version": "2.0.0",
       "_model_name": "ProgressStyleModel",
       "_view_count": null,
       "_view_module": "@jupyter-widgets/base",
       "_view_module_version": "2.0.0",
       "_view_name": "StyleView",
       "bar_color": null,
       "description_width": ""
      }
     },
     "9d018c80faf849bbb9f46c17be1ff730": {
      "model_module": "@jupyter-widgets/controls",
      "model_module_version": "2.0.0",
      "model_name": "HBoxModel",
      "state": {
       "_dom_classes": [],
       "_model_module": "@jupyter-widgets/controls",
       "_model_module_version": "2.0.0",
       "_model_name": "HBoxModel",
       "_view_count": null,
       "_view_module": "@jupyter-widgets/controls",
       "_view_module_version": "2.0.0",
       "_view_name": "HBoxView",
       "box_style": "",
       "children": [
        "IPY_MODEL_47bd58f7c80d4b748b8b6d61fc8d5b7b",
        "IPY_MODEL_8c40728b47d64f03bd5b1ffa293893c8",
        "IPY_MODEL_04675d4f9b0247b69f06eef429b44abc"
       ],
       "layout": "IPY_MODEL_ce1e85f365fc404390e7d133aa21c36e",
       "tabbable": null,
       "tooltip": null
      }
     },
     "9f65312b4dc54cca8cf3ff2323bf0ae3": {
      "model_module": "@jupyter-widgets/controls",
      "model_module_version": "2.0.0",
      "model_name": "HTMLStyleModel",
      "state": {
       "_model_module": "@jupyter-widgets/controls",
       "_model_module_version": "2.0.0",
       "_model_name": "HTMLStyleModel",
       "_view_count": null,
       "_view_module": "@jupyter-widgets/base",
       "_view_module_version": "2.0.0",
       "_view_name": "StyleView",
       "background": null,
       "description_width": "",
       "font_size": null,
       "text_color": null
      }
     },
     "a13e101ca9b145bcb9279d9ad6e7cb14": {
      "model_module": "@jupyter-widgets/controls",
      "model_module_version": "2.0.0",
      "model_name": "HTMLStyleModel",
      "state": {
       "_model_module": "@jupyter-widgets/controls",
       "_model_module_version": "2.0.0",
       "_model_name": "HTMLStyleModel",
       "_view_count": null,
       "_view_module": "@jupyter-widgets/base",
       "_view_module_version": "2.0.0",
       "_view_name": "StyleView",
       "background": null,
       "description_width": "",
       "font_size": null,
       "text_color": null
      }
     },
     "ab53aca1d31743cb843ab65542aa8c49": {
      "model_module": "@jupyter-widgets/controls",
      "model_module_version": "2.0.0",
      "model_name": "ProgressStyleModel",
      "state": {
       "_model_module": "@jupyter-widgets/controls",
       "_model_module_version": "2.0.0",
       "_model_name": "ProgressStyleModel",
       "_view_count": null,
       "_view_module": "@jupyter-widgets/base",
       "_view_module_version": "2.0.0",
       "_view_name": "StyleView",
       "bar_color": null,
       "description_width": ""
      }
     },
     "b0bc524a133d4ef8a69d04358882bdfd": {
      "model_module": "@jupyter-widgets/base",
      "model_module_version": "2.0.0",
      "model_name": "LayoutModel",
      "state": {
       "_model_module": "@jupyter-widgets/base",
       "_model_module_version": "2.0.0",
       "_model_name": "LayoutModel",
       "_view_count": null,
       "_view_module": "@jupyter-widgets/base",
       "_view_module_version": "2.0.0",
       "_view_name": "LayoutView",
       "align_content": null,
       "align_items": null,
       "align_self": null,
       "border_bottom": null,
       "border_left": null,
       "border_right": null,
       "border_top": null,
       "bottom": null,
       "display": null,
       "flex": null,
       "flex_flow": null,
       "grid_area": null,
       "grid_auto_columns": null,
       "grid_auto_flow": null,
       "grid_auto_rows": null,
       "grid_column": null,
       "grid_gap": null,
       "grid_row": null,
       "grid_template_areas": null,
       "grid_template_columns": null,
       "grid_template_rows": null,
       "height": null,
       "justify_content": null,
       "justify_items": null,
       "left": null,
       "margin": null,
       "max_height": null,
       "max_width": null,
       "min_height": null,
       "min_width": null,
       "object_fit": null,
       "object_position": null,
       "order": null,
       "overflow": null,
       "padding": null,
       "right": null,
       "top": null,
       "visibility": null,
       "width": null
      }
     },
     "b37f0d3fae264d4e9404403ee5dc80f6": {
      "model_module": "@jupyter-widgets/controls",
      "model_module_version": "2.0.0",
      "model_name": "HTMLStyleModel",
      "state": {
       "_model_module": "@jupyter-widgets/controls",
       "_model_module_version": "2.0.0",
       "_model_name": "HTMLStyleModel",
       "_view_count": null,
       "_view_module": "@jupyter-widgets/base",
       "_view_module_version": "2.0.0",
       "_view_name": "StyleView",
       "background": null,
       "description_width": "",
       "font_size": null,
       "text_color": null
      }
     },
     "b72c9232d4854091a6c672b54a41ac86": {
      "model_module": "@jupyter-widgets/controls",
      "model_module_version": "2.0.0",
      "model_name": "HTMLModel",
      "state": {
       "_dom_classes": [],
       "_model_module": "@jupyter-widgets/controls",
       "_model_module_version": "2.0.0",
       "_model_name": "HTMLModel",
       "_view_count": null,
       "_view_module": "@jupyter-widgets/controls",
       "_view_module_version": "2.0.0",
       "_view_name": "HTMLView",
       "description": "",
       "description_allow_html": false,
       "layout": "IPY_MODEL_0d67f91f166f408e8d454d9e42c94077",
       "placeholder": "​",
       "style": "IPY_MODEL_4ca18af863b64b338f27d4e78d7e6210",
       "tabbable": null,
       "tooltip": null,
       "value": "model.safetensors: 100%"
      }
     },
     "b7bd4be9aa2f4b5fb507b832e52e5678": {
      "model_module": "@jupyter-widgets/base",
      "model_module_version": "2.0.0",
      "model_name": "LayoutModel",
      "state": {
       "_model_module": "@jupyter-widgets/base",
       "_model_module_version": "2.0.0",
       "_model_name": "LayoutModel",
       "_view_count": null,
       "_view_module": "@jupyter-widgets/base",
       "_view_module_version": "2.0.0",
       "_view_name": "LayoutView",
       "align_content": null,
       "align_items": null,
       "align_self": null,
       "border_bottom": null,
       "border_left": null,
       "border_right": null,
       "border_top": null,
       "bottom": null,
       "display": null,
       "flex": null,
       "flex_flow": null,
       "grid_area": null,
       "grid_auto_columns": null,
       "grid_auto_flow": null,
       "grid_auto_rows": null,
       "grid_column": null,
       "grid_gap": null,
       "grid_row": null,
       "grid_template_areas": null,
       "grid_template_columns": null,
       "grid_template_rows": null,
       "height": null,
       "justify_content": null,
       "justify_items": null,
       "left": null,
       "margin": null,
       "max_height": null,
       "max_width": null,
       "min_height": null,
       "min_width": null,
       "object_fit": null,
       "object_position": null,
       "order": null,
       "overflow": null,
       "padding": null,
       "right": null,
       "top": null,
       "visibility": null,
       "width": null
      }
     },
     "b9d99e0c6fbe4b5fb0c1947cd9e99a91": {
      "model_module": "@jupyter-widgets/base",
      "model_module_version": "2.0.0",
      "model_name": "LayoutModel",
      "state": {
       "_model_module": "@jupyter-widgets/base",
       "_model_module_version": "2.0.0",
       "_model_name": "LayoutModel",
       "_view_count": null,
       "_view_module": "@jupyter-widgets/base",
       "_view_module_version": "2.0.0",
       "_view_name": "LayoutView",
       "align_content": null,
       "align_items": null,
       "align_self": null,
       "border_bottom": null,
       "border_left": null,
       "border_right": null,
       "border_top": null,
       "bottom": null,
       "display": null,
       "flex": null,
       "flex_flow": null,
       "grid_area": null,
       "grid_auto_columns": null,
       "grid_auto_flow": null,
       "grid_auto_rows": null,
       "grid_column": null,
       "grid_gap": null,
       "grid_row": null,
       "grid_template_areas": null,
       "grid_template_columns": null,
       "grid_template_rows": null,
       "height": null,
       "justify_content": null,
       "justify_items": null,
       "left": null,
       "margin": null,
       "max_height": null,
       "max_width": null,
       "min_height": null,
       "min_width": null,
       "object_fit": null,
       "object_position": null,
       "order": null,
       "overflow": null,
       "padding": null,
       "right": null,
       "top": null,
       "visibility": null,
       "width": null
      }
     },
     "ba0af6f862b84f06aa5ccd153c67a7ed": {
      "model_module": "@jupyter-widgets/controls",
      "model_module_version": "2.0.0",
      "model_name": "HBoxModel",
      "state": {
       "_dom_classes": [],
       "_model_module": "@jupyter-widgets/controls",
       "_model_module_version": "2.0.0",
       "_model_name": "HBoxModel",
       "_view_count": null,
       "_view_module": "@jupyter-widgets/controls",
       "_view_module_version": "2.0.0",
       "_view_name": "HBoxView",
       "box_style": "",
       "children": [
        "IPY_MODEL_c818593cf29e4ac2a6724e14ac3fbac2",
        "IPY_MODEL_33d5a701513e40c6ba46d8a877778d00",
        "IPY_MODEL_4a21a73ce4724a30bbb364152091418f"
       ],
       "layout": "IPY_MODEL_60c0725571a944d692e27e997512dc0c",
       "tabbable": null,
       "tooltip": null
      }
     },
     "bb87f67b04ff4b84a767beb6e2a23a9b": {
      "model_module": "@jupyter-widgets/controls",
      "model_module_version": "2.0.0",
      "model_name": "HTMLStyleModel",
      "state": {
       "_model_module": "@jupyter-widgets/controls",
       "_model_module_version": "2.0.0",
       "_model_name": "HTMLStyleModel",
       "_view_count": null,
       "_view_module": "@jupyter-widgets/base",
       "_view_module_version": "2.0.0",
       "_view_name": "StyleView",
       "background": null,
       "description_width": "",
       "font_size": null,
       "text_color": null
      }
     },
     "c656865bdeff412f987ca4015f1615fe": {
      "model_module": "@jupyter-widgets/controls",
      "model_module_version": "2.0.0",
      "model_name": "HTMLStyleModel",
      "state": {
       "_model_module": "@jupyter-widgets/controls",
       "_model_module_version": "2.0.0",
       "_model_name": "HTMLStyleModel",
       "_view_count": null,
       "_view_module": "@jupyter-widgets/base",
       "_view_module_version": "2.0.0",
       "_view_name": "StyleView",
       "background": null,
       "description_width": "",
       "font_size": null,
       "text_color": null
      }
     },
     "c818593cf29e4ac2a6724e14ac3fbac2": {
      "model_module": "@jupyter-widgets/controls",
      "model_module_version": "2.0.0",
      "model_name": "HTMLModel",
      "state": {
       "_dom_classes": [],
       "_model_module": "@jupyter-widgets/controls",
       "_model_module_version": "2.0.0",
       "_model_name": "HTMLModel",
       "_view_count": null,
       "_view_module": "@jupyter-widgets/controls",
       "_view_module_version": "2.0.0",
       "_view_name": "HTMLView",
       "description": "",
       "description_allow_html": false,
       "layout": "IPY_MODEL_793d0fb9d97c4f66bee83dd026982894",
       "placeholder": "​",
       "style": "IPY_MODEL_bb87f67b04ff4b84a767beb6e2a23a9b",
       "tabbable": null,
       "tooltip": null,
       "value": "Map: 100%"
      }
     },
     "ce1e85f365fc404390e7d133aa21c36e": {
      "model_module": "@jupyter-widgets/base",
      "model_module_version": "2.0.0",
      "model_name": "LayoutModel",
      "state": {
       "_model_module": "@jupyter-widgets/base",
       "_model_module_version": "2.0.0",
       "_model_name": "LayoutModel",
       "_view_count": null,
       "_view_module": "@jupyter-widgets/base",
       "_view_module_version": "2.0.0",
       "_view_name": "LayoutView",
       "align_content": null,
       "align_items": null,
       "align_self": null,
       "border_bottom": null,
       "border_left": null,
       "border_right": null,
       "border_top": null,
       "bottom": null,
       "display": null,
       "flex": null,
       "flex_flow": null,
       "grid_area": null,
       "grid_auto_columns": null,
       "grid_auto_flow": null,
       "grid_auto_rows": null,
       "grid_column": null,
       "grid_gap": null,
       "grid_row": null,
       "grid_template_areas": null,
       "grid_template_columns": null,
       "grid_template_rows": null,
       "height": null,
       "justify_content": null,
       "justify_items": null,
       "left": null,
       "margin": null,
       "max_height": null,
       "max_width": null,
       "min_height": null,
       "min_width": null,
       "object_fit": null,
       "object_position": null,
       "order": null,
       "overflow": null,
       "padding": null,
       "right": null,
       "top": null,
       "visibility": null,
       "width": null
      }
     },
     "df7b2928ac664cc79a64f9f4eb27f5cd": {
      "model_module": "@jupyter-widgets/controls",
      "model_module_version": "2.0.0",
      "model_name": "ProgressStyleModel",
      "state": {
       "_model_module": "@jupyter-widgets/controls",
       "_model_module_version": "2.0.0",
       "_model_name": "ProgressStyleModel",
       "_view_count": null,
       "_view_module": "@jupyter-widgets/base",
       "_view_module_version": "2.0.0",
       "_view_name": "StyleView",
       "bar_color": null,
       "description_width": ""
      }
     },
     "e454dbc696ce415eb7cd4e8d53326fda": {
      "model_module": "@jupyter-widgets/base",
      "model_module_version": "2.0.0",
      "model_name": "LayoutModel",
      "state": {
       "_model_module": "@jupyter-widgets/base",
       "_model_module_version": "2.0.0",
       "_model_name": "LayoutModel",
       "_view_count": null,
       "_view_module": "@jupyter-widgets/base",
       "_view_module_version": "2.0.0",
       "_view_name": "LayoutView",
       "align_content": null,
       "align_items": null,
       "align_self": null,
       "border_bottom": null,
       "border_left": null,
       "border_right": null,
       "border_top": null,
       "bottom": null,
       "display": null,
       "flex": null,
       "flex_flow": null,
       "grid_area": null,
       "grid_auto_columns": null,
       "grid_auto_flow": null,
       "grid_auto_rows": null,
       "grid_column": null,
       "grid_gap": null,
       "grid_row": null,
       "grid_template_areas": null,
       "grid_template_columns": null,
       "grid_template_rows": null,
       "height": null,
       "justify_content": null,
       "justify_items": null,
       "left": null,
       "margin": null,
       "max_height": null,
       "max_width": null,
       "min_height": null,
       "min_width": null,
       "object_fit": null,
       "object_position": null,
       "order": null,
       "overflow": null,
       "padding": null,
       "right": null,
       "top": null,
       "visibility": null,
       "width": null
      }
     },
     "e4623093a4294e06b88f049daf170858": {
      "model_module": "@jupyter-widgets/controls",
      "model_module_version": "2.0.0",
      "model_name": "FloatProgressModel",
      "state": {
       "_dom_classes": [],
       "_model_module": "@jupyter-widgets/controls",
       "_model_module_version": "2.0.0",
       "_model_name": "FloatProgressModel",
       "_view_count": null,
       "_view_module": "@jupyter-widgets/controls",
       "_view_module_version": "2.0.0",
       "_view_name": "ProgressView",
       "bar_style": "success",
       "description": "",
       "description_allow_html": false,
       "layout": "IPY_MODEL_80ab37ae229247d99d436b26d333e7a4",
       "max": 3044.0,
       "min": 0.0,
       "orientation": "horizontal",
       "style": "IPY_MODEL_5913a8ccd2b64cfeb2021cc3badf9817",
       "tabbable": null,
       "tooltip": null,
       "value": 3044.0
      }
     },
     "ed1349ba355a4d89a2076e9f9d27b63d": {
      "model_module": "@jupyter-widgets/controls",
      "model_module_version": "2.0.0",
      "model_name": "HTMLModel",
      "state": {
       "_dom_classes": [],
       "_model_module": "@jupyter-widgets/controls",
       "_model_module_version": "2.0.0",
       "_model_name": "HTMLModel",
       "_view_count": null,
       "_view_module": "@jupyter-widgets/controls",
       "_view_module_version": "2.0.0",
       "_view_name": "HTMLView",
       "description": "",
       "description_allow_html": false,
       "layout": "IPY_MODEL_b7bd4be9aa2f4b5fb507b832e52e5678",
       "placeholder": "​",
       "style": "IPY_MODEL_c656865bdeff412f987ca4015f1615fe",
       "tabbable": null,
       "tooltip": null,
       "value": "generation_config.json: 100%"
      }
     },
     "f5e9a550d00849d79616a706ed4657cc": {
      "model_module": "@jupyter-widgets/base",
      "model_module_version": "2.0.0",
      "model_name": "LayoutModel",
      "state": {
       "_model_module": "@jupyter-widgets/base",
       "_model_module_version": "2.0.0",
       "_model_name": "LayoutModel",
       "_view_count": null,
       "_view_module": "@jupyter-widgets/base",
       "_view_module_version": "2.0.0",
       "_view_name": "LayoutView",
       "align_content": null,
       "align_items": null,
       "align_self": null,
       "border_bottom": null,
       "border_left": null,
       "border_right": null,
       "border_top": null,
       "bottom": null,
       "display": null,
       "flex": null,
       "flex_flow": null,
       "grid_area": null,
       "grid_auto_columns": null,
       "grid_auto_flow": null,
       "grid_auto_rows": null,
       "grid_column": null,
       "grid_gap": null,
       "grid_row": null,
       "grid_template_areas": null,
       "grid_template_columns": null,
       "grid_template_rows": null,
       "height": null,
       "justify_content": null,
       "justify_items": null,
       "left": null,
       "margin": null,
       "max_height": null,
       "max_width": null,
       "min_height": null,
       "min_width": null,
       "object_fit": null,
       "object_position": null,
       "order": null,
       "overflow": null,
       "padding": null,
       "right": null,
       "top": null,
       "visibility": null,
       "width": null
      }
     },
     "f81c57504371432ea5731dd3c88aec3e": {
      "model_module": "@jupyter-widgets/base",
      "model_module_version": "2.0.0",
      "model_name": "LayoutModel",
      "state": {
       "_model_module": "@jupyter-widgets/base",
       "_model_module_version": "2.0.0",
       "_model_name": "LayoutModel",
       "_view_count": null,
       "_view_module": "@jupyter-widgets/base",
       "_view_module_version": "2.0.0",
       "_view_name": "LayoutView",
       "align_content": null,
       "align_items": null,
       "align_self": null,
       "border_bottom": null,
       "border_left": null,
       "border_right": null,
       "border_top": null,
       "bottom": null,
       "display": null,
       "flex": null,
       "flex_flow": null,
       "grid_area": null,
       "grid_auto_columns": null,
       "grid_auto_flow": null,
       "grid_auto_rows": null,
       "grid_column": null,
       "grid_gap": null,
       "grid_row": null,
       "grid_template_areas": null,
       "grid_template_columns": null,
       "grid_template_rows": null,
       "height": null,
       "justify_content": null,
       "justify_items": null,
       "left": null,
       "margin": null,
       "max_height": null,
       "max_width": null,
       "min_height": null,
       "min_width": null,
       "object_fit": null,
       "object_position": null,
       "order": null,
       "overflow": null,
       "padding": null,
       "right": null,
       "top": null,
       "visibility": null,
       "width": null
      }
     },
     "f9b96c425bef436391d2b2ce94de86b7": {
      "model_module": "@jupyter-widgets/controls",
      "model_module_version": "2.0.0",
      "model_name": "HTMLModel",
      "state": {
       "_dom_classes": [],
       "_model_module": "@jupyter-widgets/controls",
       "_model_module_version": "2.0.0",
       "_model_name": "HTMLModel",
       "_view_count": null,
       "_view_module": "@jupyter-widgets/controls",
       "_view_module_version": "2.0.0",
       "_view_name": "HTMLView",
       "description": "",
       "description_allow_html": false,
       "layout": "IPY_MODEL_2bae9c21e2c346d59cc268b78ae2fa3b",
       "placeholder": "​",
       "style": "IPY_MODEL_a13e101ca9b145bcb9279d9ad6e7cb14",
       "tabbable": null,
       "tooltip": null,
       "value": " 230/230 [00:00&lt;00:00, 31.7kB/s]"
      }
     },
     "fbced4188a4f44dda54a8ef45659162d": {
      "model_module": "@jupyter-widgets/controls",
      "model_module_version": "2.0.0",
      "model_name": "HTMLStyleModel",
      "state": {
       "_model_module": "@jupyter-widgets/controls",
       "_model_module_version": "2.0.0",
       "_model_name": "HTMLStyleModel",
       "_view_count": null,
       "_view_module": "@jupyter-widgets/base",
       "_view_module_version": "2.0.0",
       "_view_name": "StyleView",
       "background": null,
       "description_width": "",
       "font_size": null,
       "text_color": null
      }
     }
    },
    "version_major": 2,
    "version_minor": 0
   }
  }
 },
 "nbformat": 4,
 "nbformat_minor": 5
}
