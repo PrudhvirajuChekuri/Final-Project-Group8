{
 "cells": [
  {
   "cell_type": "markdown",
   "id": "88797fff",
   "metadata": {},
   "source": [
    "# Notebook Description\n",
    "\n",
    "- **Purpose**: Similar to the generic notebook, this script augments the math problem dataset from [this](https://www.kaggle.com/competitions/classification-of-math-problems-by-kasut-academy/overview) Kaggle competition to address class imbalance, aiming for a target number of samples per class (e.g., 3000). It only exposes the first 9189 rows of the original training data as the basis for augmentation so that remaining samples can be used for validation.\n",
    "- **Methodology**: It employs AWS Bedrock with claud 3.5 sonnet for generation.\n",
    "- **Generation Strategy**: The core strategy involves providing the model with an example problem from the target topic and prompting it to generate a batch of new, similar problems. The prompt specifically instructs the model to match the mathematical complexity and style, use varied contexts/phrasing, and importantly, to include LaTeX or math symbols if they were present in the original example problem. Generated problems are requested in a delimited list format.\n",
    "- **Key Difference with the Generic Notebook**: This code adds specific instruction about LaTeX/math symbols to ensure the generated synthetic data more closely mirrors the style and formatting of the original math problems. Since mathematical notation is crucial for problem understanding and structure, forcing the model to replicate this aspect aims to create higher-quality, more realistic augmented data. Also the previous notebook exposes all the original training data in the prompts for some classes, this version only uses the first 9189 samples so that remaining 1000 samples are untouched.\n",
    "- **Implementation**: Leverages parallel processing via ThreadPoolExecutor to speed up the generation for different topics and batches. Includes error handling for Bedrock API calls, such as throttling, with retry logic.\n",
    "Output: The augmented data (generated questions and labels) is compiled into a DataFrame and saved as a CSV file (named augmented_train_second_attempt.csv in the notebook's example run)."
   ]
  },
  {
   "cell_type": "markdown",
   "id": "b4cdb2fc",
   "metadata": {},
   "source": [
    "# Import Libraries"
   ]
  },
  {
   "cell_type": "code",
   "execution_count": null,
   "id": "959113d8",
   "metadata": {},
   "outputs": [],
   "source": [
    "import re\n",
    "import os\n",
    "import boto3\n",
    "import json\n",
    "import time\n",
    "import pandas as pd\n",
    "from botocore.exceptions import ClientError\n",
    "from concurrent.futures import ThreadPoolExecutor"
   ]
  },
  {
   "cell_type": "markdown",
   "id": "9c67139e",
   "metadata": {},
   "source": [
    "# Setup AWS Credentials"
   ]
  },
  {
   "cell_type": "code",
   "execution_count": null,
   "id": "c02a75f1",
   "metadata": {},
   "outputs": [],
   "source": [
    "# Set if needed.\n",
    "if False:\n",
    "    os.environ['AWS_ACCESS_KEY_ID'] = ''\n",
    "    os.environ['AWS_SECRET_ACCESS_KEY'] = ''\n",
    "    os.environ['AWS_SESSION_TOKEN'] = ''\n",
    "    os.environ['AWS_DEFAULT_REGION'] = ''\n",
    "\n",
    "    print(boto3.client('sts').get_caller_identity())"
   ]
  },
  {
   "cell_type": "markdown",
   "id": "946abd7e",
   "metadata": {},
   "source": [
    "# Initialize Bedrock and Load Data"
   ]
  },
  {
   "cell_type": "code",
   "execution_count": null,
   "id": "34f58888",
   "metadata": {},
   "outputs": [
    {
     "name": "stdout",
     "output_type": "stream",
     "text": [
      "Bedrock client initialized successfully.\n"
     ]
    }
   ],
   "source": [
    "# Initialize Bedrock client\n",
    "try:\n",
    "    bedrock = boto3.client('bedrock-runtime', region_name='us-east-1')\n",
    "    print(\"Bedrock client initialized successfully.\")\n",
    "except Exception as e:\n",
    "    print(f\"Failed to initialize Bedrock client: {e}\")\n",
    "    print(\"Ensure AWS credentials (including session token) are set in ~/.aws/credentials or environment variables.\")\n",
    "    bedrock = None\n",
    "\n",
    "# Define topic mapping\n",
    "TOPICS = {\n",
    "    0: \"Algebra\",\n",
    "    1: \"Geometry and Trigonometry\",\n",
    "    2: \"Calculus and Analysis\",\n",
    "    3: \"Probability and Statistics\",\n",
    "    4: \"Number Theory\",\n",
    "    5: \"Combinatorics and Discrete Math\",\n",
    "    6: \"Linear Algebra\",\n",
    "    7: \"Abstract Algebra and Topology\"\n",
    "}\n",
    "\n",
    "# Load dataset\n",
    "train_df = pd.read_csv('train.csv')\n",
    "label_counts = train_df['label'].value_counts()\n",
    "target_samples = 3000"
   ]
  },
  {
   "cell_type": "markdown",
   "id": "bb6c99e3",
   "metadata": {},
   "source": [
    "# Create and Test Function to Generate Questions"
   ]
  },
  {
   "cell_type": "markdown",
   "id": "582c2f64",
   "metadata": {},
   "source": [
    "Ask the model to generate questions similar to the original training data"
   ]
  },
  {
   "cell_type": "code",
   "execution_count": null,
   "id": "cc45270b",
   "metadata": {},
   "outputs": [
    {
     "name": "stdout",
     "output_type": "stream",
     "text": [
      "Bedrock client initialized successfully.\n",
      "Testing generation for Probability and Statistics...\n",
      "Generating 400 questions in 80 batches...\n",
      "Generated 400 questions in 123.72 seconds.\n",
      "Sample generated questions:\n",
      "1. A deck of 52 cards contains 13 cards of each suit (hearts, diamonds, clubs, spades). Cards are drawn without replacement until either all four aces or all four kings are drawn. Let $p/q$ be the probability of drawing all four aces before all four kings, where $p$ and $q$ are coprime integers. Determine $p+q$.\n",
      "2. In a laboratory, genetic mutations occur independently in bacteria with probability 0.01 per generation. If a colony starts with 100 bacteria, what is the probability that exactly 3 bacteria will have mutated after one generation? Give your answer as a percentage rounded to two decimal places.\n",
      "3. A fair six-sided die is rolled repeatedly until either a 6 appears or the sum of the rolls exceeds 10. Let $E$ be the expected number of rolls. Find $\\lfloor 100E \\rfloor$ (the floor of 100E).\n",
      "4. A bag contains 5 red marbles, 3 blue marbles, and 2 green marbles. Marbles are drawn one at a time without replacement until all marbles of one color have been drawn. What is the probability that all red marbles will be drawn before all marbles of any other color are drawn? Express your answer as a decimal rounded to four places.\n",
      "5. In a game show, contestants choose one of three doors. Behind one door is a car, and behind the other two are goats. After a contestant chooses a door, the host (who knows what's behind each door) opens another door to reveal a goat. The contestant is then given the option to switch their choice to the remaining unopened door. If the contestant always switches, what is the probability of winning the car? Express your answer as $m/n$ where $m$ and $n$ are coprime positive integers.\n"
     ]
    }
   ],
   "source": [
    "# Function to generate multiple questions in one API call\n",
    "def generate_questions_batch(original_question, topic, num_questions=5, retries=3):\n",
    "    if not bedrock:\n",
    "        return [f\"Mock question {i+1} for {topic}: Similar to '{original_question}'\" for i in range(num_questions)]\n",
    "    \n",
    "    prompt = f\"\"\"\n",
    "You are a math expert tasked with generating {num_questions} new math problems for a specific topic, inspired by an example problem but with distinct structure and wording.\n",
    "\n",
    "### Topic:\n",
    "{topic}\n",
    "\n",
    "### Example Problem:\n",
    "{original_question}\n",
    "\n",
    "### Instructions:\n",
    "1. Generate exactly {num_questions} new math problems in the topic of {topic}.\n",
    "2. If the example problem contains latex or math symbols, use them in the generated problems as well.\n",
    "3. Each problem must have a different context (e.g., use dice, cards, experiments, or surveys instead of balls/urns if the example uses those).\n",
    "4. Use varied phrasing and question styles (e.g., ask for probability as a decimal, percentage, simplified fraction, conditional probability, or expected value).\n",
    "5. Match the mathematical complexity and style of the example problem.\n",
    "6. Avoid repetitive phrases like \"expressed as a fraction in lowest terms\" and diversify wording.\n",
    "7. Return the problems as a list of strings, with each problem separated by exactly \"\\n---\\n\" (newline, three dashes, newline).\n",
    "8. Each problem should be a single string. **Do not include explanations, solutions, or numbering**.\n",
    "9. Do not include any additional text or formatting in the beginning or ending of your response.\n",
    "\"\"\"\n",
    "    for attempt in range(retries):\n",
    "        try:\n",
    "            response = bedrock.invoke_model(\n",
    "                modelId='anthropic.claude-3-5-sonnet-20240620-v1:0',\n",
    "                body=json.dumps({\n",
    "                    \"anthropic_version\": \"bedrock-2023-05-31\",\n",
    "                    \"max_tokens\": 1000,\n",
    "                    \"messages\": [\n",
    "                        {\n",
    "                            \"role\": \"user\",\n",
    "                            \"content\": prompt\n",
    "                        }\n",
    "                    ]\n",
    "                })\n",
    "            )\n",
    "            result = json.loads(response['body'].read().decode('utf-8'))\n",
    "            text = result['content'][0]['text'].strip()\n",
    "            # Parse delimited list\n",
    "            questions = re.split(r'\\n---\\n', text)\n",
    "            questions = [q.strip() for q in questions if q.strip()]\n",
    "            if len(questions) < num_questions:\n",
    "                print(f\"Warning: Got {len(questions)} questions instead of {num_questions}. Retrying...\")\n",
    "                continue\n",
    "            return questions[:num_questions]\n",
    "        except ClientError as e:\n",
    "            if \"Throttling\" in str(e):\n",
    "                print(f\"Throttling detected. Retrying {attempt+1}/{retries} after delay...\")\n",
    "                time.sleep(2 ** attempt)  # Exponential backoff\n",
    "            elif \"AccessDenied\" in str(e):\n",
    "                print(\"Credentials lack Bedrock permissions. Contact your instructor.\")\n",
    "                return None\n",
    "            elif \"InvalidClientTokenId\" in str(e) or \"SignatureDoesNotMatch\" in str(e):\n",
    "                print(\"Invalid or expired credentials. Refresh from your portal.\")\n",
    "                return None\n",
    "            elif \"ValidationError\" in str(e):\n",
    "                print(\"Invalid model ID. Verify with 'aws bedrock list-foundation-models'.\")\n",
    "                return None\n",
    "            else:\n",
    "                print(f\"Bedrock error: {e}\")\n",
    "                return None\n",
    "        except Exception as e:\n",
    "            print(f\"Unexpected error: {e}\")\n",
    "            return None\n",
    "    print(f\"Failed to generate questions after {retries} attempts.\")\n",
    "    return None\n",
    "\n",
    "# Parallel generation function\n",
    "def generate_questions_parallel(original_questions, topic, target_count, batch_size=5, max_workers=8):\n",
    "    questions_needed = target_count\n",
    "    generated_questions = []\n",
    "    batches = (questions_needed + batch_size - 1) // batch_size  # Ceiling division\n",
    "    \n",
    "    print(f\"Generating {questions_needed} questions in {batches} batches...\")\n",
    "    start_time = time.time()\n",
    "    \n",
    "    def process_batch(index):\n",
    "        # Cycle through original questions\n",
    "        original = original_questions[index % len(original_questions)]\n",
    "        result = generate_questions_batch(original, topic, batch_size)\n",
    "        return result if result else []\n",
    "\n",
    "    with ThreadPoolExecutor(max_workers=max_workers) as executor:\n",
    "        # Generate batches in parallel\n",
    "        results = list(executor.map(process_batch, range(batches)))\n",
    "    \n",
    "    # Flatten results\n",
    "    for batch in results:\n",
    "        generated_questions.extend(batch)\n",
    "    \n",
    "    elapsed = time.time() - start_time\n",
    "    print(f\"Generated {len(generated_questions)} questions in {elapsed:.2f} seconds.\")\n",
    "    return generated_questions[:questions_needed]\n",
    "\n",
    "# Test the function\n",
    "if __name__ == \"__main__\":\n",
    "    try:\n",
    "        train_df = pd.read_csv('train.csv')\n",
    "        # Filter for Probability and Statistics (label=3)\n",
    "        topic = TOPICS[3]\n",
    "        sample_questions = train_df[train_df['label'] == 3]['Question'].head(5).tolist()\n",
    "        if not sample_questions:\n",
    "            print(\"Error: No questions found for Probability and Statistics.\")\n",
    "            exit(1)\n",
    "        \n",
    "        print(f\"Testing generation for {topic}...\")\n",
    "        # Generate 400 questions to test speed\n",
    "        target_count = 400\n",
    "        generated = generate_questions_parallel(sample_questions, topic, target_count)\n",
    "        \n",
    "        if generated:\n",
    "            print(f\"Sample generated questions:\")\n",
    "            for i, q in enumerate(generated[:5], 1):\n",
    "                print(f\"{i}. {q}\")\n",
    "        else:\n",
    "            print(\"Failed to generate questions.\")\n",
    "    except FileNotFoundError:\n",
    "        print(\"Error: train.csv not found.\")\n",
    "    except KeyError:\n",
    "        print(\"Error: Required columns ('Question', 'label') not found. Available columns:\", train_df.columns.tolist())"
   ]
  },
  {
   "cell_type": "code",
   "execution_count": 5,
   "id": "e4ca37f2",
   "metadata": {},
   "outputs": [
    {
     "data": {
      "text/plain": [
       "['A deck of 52 cards contains 13 cards of each suit (hearts, diamonds, clubs, spades). Cards are drawn without replacement until either all four aces or all four kings are drawn. Let $p/q$ be the probability of drawing all four aces before all four kings, where $p$ and $q$ are coprime integers. Determine $p+q$.',\n",
       " 'In a laboratory, genetic mutations occur independently in bacteria with probability 0.01 per generation. If a colony starts with 100 bacteria, what is the probability that exactly 3 bacteria will have mutated after one generation? Give your answer as a percentage rounded to two decimal places.',\n",
       " 'A fair six-sided die is rolled repeatedly until either a 6 appears or the sum of the rolls exceeds 10. Let $E$ be the expected number of rolls. Find $\\\\lfloor 100E \\\\rfloor$ (the floor of 100E).',\n",
       " 'A bag contains 5 red marbles, 3 blue marbles, and 2 green marbles. Marbles are drawn one at a time without replacement until all marbles of one color have been drawn. What is the probability that all red marbles will be drawn before all marbles of any other color are drawn? Express your answer as a decimal rounded to four places.',\n",
       " \"In a game show, contestants choose one of three doors. Behind one door is a car, and behind the other two are goats. After a contestant chooses a door, the host (who knows what's behind each door) opens another door to reveal a goat. The contestant is then given the option to switch their choice to the remaining unopened door. If the contestant always switches, what is the probability of winning the car? Express your answer as $m/n$ where $m$ and $n$ are coprime positive integers.\",\n",
       " \"Let $f(x)=\\\\lfloor e^x \\\\rfloor$, where $\\\\lfloor x \\\\rfloor$ denotes the floor function. A number $x$ is considered 'special' if $f(x)$ is prime. What is the probability that a randomly chosen number from the interval $[0,\\\\ln 5)$ is special?\",\n",
       " \"In a game show, contestants spin a wheel with numbers from 1 to 100. Let $g(n)=\\\\lceil \\\\sqrt{n} \\\\rceil$, where $\\\\lceil x \\\\rceil$ is the ceiling function. A spin is 'lucky' if $g(n)$ is even. What's the likelihood of getting a lucky spin?\",\n",
       " \"A cryptographic algorithm generates keys based on the function $h(x)=[\\\\log_3(x^2+1)]$, where $[x]$ represents the nearest integer to $x$. If a key is 'secure' when $h(x)$ is odd, determine the probability of generating a secure key for $x$ uniformly distributed in $(0,2)$.\",\n",
       " \"In a scientific experiment, measurements are classified using $k(x)=\\\\lfloor \\\\sin(\\\\pi x) \\\\rfloor + \\\\lfloor \\\\cos(\\\\pi x) \\\\rfloor$. A measurement is 'significant' if $k(x)$ is non-negative. What's the chance a measurement $x$, randomly selected from $[0,1]$, is significant?\",\n",
       " \"A data compression algorithm uses the function $m(x)=\\\\lfloor \\\\log_2(x+1) \\\\rfloor$. Data is considered 'compressible' if $m(x)$ is a multiple of 3. If $x$ is uniformly distributed over $(0,15]$, what's the probability the data is compressible?\",\n",
       " 'A deck of 52 cards contains 13 hearts. If you draw 3 cards without replacement, what is the probability that all of them are hearts?',\n",
       " 'In a group of 30 students, 18 play soccer and 12 play basketball. If a student is chosen at random, what is the probability (as a percentage) that they play either soccer or basketball, but not both?',\n",
       " 'A six-sided die is rolled 4 times. What is the probability of rolling at least one 6, expressed as a decimal rounded to three places?',\n",
       " 'In a bag of 50 marbles, 40% are blue and the rest are red. If you randomly select 5 marbles with replacement, what is the expected number of blue marbles drawn?',\n",
       " 'A factory produces light bulbs with a 5% defect rate. If 10 bulbs are randomly selected, what is the probability that at most 1 bulb is defective?',\n",
       " 'A random variable Z follows an exponential distribution with parameter λ. Find the probability density function of W = Z^2.',\n",
       " 'Let Y be a continuous random variable with the probability density function f(y) = 2y for 0 ≤ y ≤ 1, and 0 otherwise. Determine the cumulative distribution function F(y) for Y.',\n",
       " 'Suppose X is normally distributed with mean μ and standard deviation σ. What is the probability density function of T = e^X?',\n",
       " \"A company's daily profit in thousands of dollars is modeled by a random variable P with probability density function g(p) = (1/8)p^(-3/4) for p ≥ 1. Calculate P(P > 4).\",\n",
       " 'Given a random variable R with probability density function h(r) = 3r^2 for 0 ≤ r ≤ 1, and 0 otherwise, find the expected value of S = 1/R.']"
      ]
     },
     "execution_count": 5,
     "metadata": {},
     "output_type": "execute_result"
    }
   ],
   "source": [
    "generated[:20]"
   ]
  },
  {
   "cell_type": "markdown",
   "id": "700c5a44",
   "metadata": {},
   "source": [
    "# Run Full Generation"
   ]
  },
  {
   "cell_type": "code",
   "execution_count": 7,
   "id": "b9bfdde3",
   "metadata": {},
   "outputs": [
    {
     "name": "stdout",
     "output_type": "stream",
     "text": [
      "Loaded train.csv. Starting augmentation...\n",
      "Processing label 0 (Algebra): 2361 samples in data.\n",
      "Generating 639 questions in 128 batches...\n",
      "Generated 640 questions in 173.89 seconds.\n",
      "Processing label 1 (Geometry and Trigonometry): 2205 samples in data.\n",
      "Generating 795 questions in 159 batches...\n",
      "Generated 795 questions in 234.13 seconds.\n",
      "Processing label 5 (Combinatorics and Discrete Math): 1654 samples in data.\n",
      "Generating 1346 questions in 270 batches...\n",
      "Generated 1350 questions in 378.01 seconds.\n",
      "Processing label 4 (Number Theory): 1535 samples in data.\n",
      "Generating 1465 questions in 293 batches...\n",
      "Generated 1465 questions in 339.72 seconds.\n",
      "Processing label 2 (Calculus and Analysis): 936 samples in data.\n",
      "Generating 2064 questions in 413 batches...\n",
      "Generated 2065 questions in 513.66 seconds.\n",
      "Processing label 3 (Probability and Statistics): 334 samples in data.\n",
      "Generating 2666 questions in 534 batches...\n",
      "Generated 2670 questions in 764.33 seconds.\n",
      "Processing label 6 (Linear Algebra): 88 samples in data.\n",
      "Generating 2912 questions in 583 batches...\n",
      "Generated 2915 questions in 912.95 seconds.\n",
      "Processing label 7 (Abstract Algebra and Topology): 76 samples in data.\n",
      "Generating 2924 questions in 585 batches...\n",
      "Generated 2925 questions in 658.99 seconds.\n",
      "Total augmentation completed in 3975.69 seconds. Generated 14811 new questions.\n",
      "Saved augmented data to augmented_train_second_attempt.csv.\n"
     ]
    }
   ],
   "source": [
    "# Full augmentation function\n",
    "def augment_data(df, target_samples=3000, batch_size=5, max_workers=8):\n",
    "    label_counts = df['label'].value_counts()\n",
    "    augmented_data = []\n",
    "    total_start_time = time.time()\n",
    "    \n",
    "    for label, count in label_counts.items():\n",
    "        print(f\"Processing label {label} ({TOPICS[label]}): {count} samples in data.\")\n",
    "        if count < target_samples:\n",
    "            topic = TOPICS[label]\n",
    "            samples_needed = target_samples - count\n",
    "            original_questions = df[df['label'] == label]['Question'].tolist()\n",
    "            if not original_questions:\n",
    "                print(f\"Error: No questions found for {topic}. Skipping...\")\n",
    "                continue\n",
    "            new_questions = generate_questions_parallel(original_questions, topic, samples_needed, batch_size, max_workers)\n",
    "            for q in new_questions:\n",
    "                augmented_data.append({'Question': q, 'label': label})\n",
    "    \n",
    "    augmented_df = pd.DataFrame(augmented_data)\n",
    "    total_elapsed = time.time() - total_start_time\n",
    "    print(f\"Total augmentation completed in {total_elapsed:.2f} seconds. Generated {len(augmented_df)} new questions.\")\n",
    "    return augmented_df\n",
    "\n",
    "# Run full augmentation\n",
    "if __name__ == \"__main__\":\n",
    "    try:\n",
    "        train_df = pd.read_csv('train.csv')\n",
    "        train_df = train_df[:9189].copy()\n",
    "        print(\"Loaded train.csv. Starting augmentation...\")\n",
    "        augmented_df = augment_data(train_df)\n",
    "        # Save to CSV\n",
    "        output_file = 'augmented_train_second_attempt.csv'\n",
    "        augmented_df.to_csv(output_file, index=False)\n",
    "        print(f\"Saved augmented data to {output_file}.\")\n",
    "    except FileNotFoundError:\n",
    "        print(\"Error: train.csv not found.\")\n",
    "    except KeyError:\n",
    "        print(\"Error: Required columns ('Question', 'label') not found. Available columns:\", train_df.columns.tolist())"
   ]
  }
 ],
 "metadata": {
  "kernelspec": {
   "display_name": "Python 3",
   "language": "python",
   "name": "python3"
  },
  "language_info": {
   "codemirror_mode": {
    "name": "ipython",
    "version": 3
   },
   "file_extension": ".py",
   "mimetype": "text/x-python",
   "name": "python",
   "nbconvert_exporter": "python",
   "pygments_lexer": "ipython3",
   "version": "3.12.3"
  }
 },
 "nbformat": 4,
 "nbformat_minor": 5
}
