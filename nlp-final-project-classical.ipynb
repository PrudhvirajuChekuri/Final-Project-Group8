{
 "cells": [
  {
   "cell_type": "markdown",
   "id": "edefc9b0",
   "metadata": {},
   "source": [
    "# Import Libraries"
   ]
  },
  {
   "cell_type": "code",
   "execution_count": null,
   "id": "89123f1c",
   "metadata": {
    "execution": {
     "iopub.execute_input": "2025-04-25T04:45:01.033949Z",
     "iopub.status.busy": "2025-04-25T04:45:01.033668Z",
     "iopub.status.idle": "2025-04-25T04:45:02.774066Z",
     "shell.execute_reply": "2025-04-25T04:45:02.773122Z"
    },
    "papermill": {
     "duration": 1.748037,
     "end_time": "2025-04-25T04:45:02.775759",
     "exception": false,
     "start_time": "2025-04-25T04:45:01.027722",
     "status": "completed"
    },
    "tags": []
   },
   "outputs": [],
   "source": [
    "import re\n",
    "import pandas as pd\n",
    "from sklearn.pipeline import Pipeline\n",
    "from lightgbm import LGBMClassifier\n",
    "from sklearn.linear_model import LogisticRegression\n",
    "from sklearn.model_selection import train_test_split\n",
    "from sklearn.feature_extraction.text import CountVectorizer, TfidfVectorizer, TfidfTransformer"
   ]
  },
  {
   "cell_type": "markdown",
   "id": "e2ac37fa",
   "metadata": {},
   "source": [
    "# Load Data"
   ]
  },
  {
   "cell_type": "code",
   "execution_count": 3,
   "id": "8ff0e538",
   "metadata": {
    "execution": {
     "iopub.execute_input": "2025-04-25T04:45:02.788627Z",
     "iopub.status.busy": "2025-04-25T04:45:02.788187Z",
     "iopub.status.idle": "2025-04-25T04:45:02.949059Z",
     "shell.execute_reply": "2025-04-25T04:45:02.948333Z"
    },
    "papermill": {
     "duration": 0.16924,
     "end_time": "2025-04-25T04:45:02.950297",
     "exception": false,
     "start_time": "2025-04-25T04:45:02.781057",
     "status": "completed"
    },
    "tags": []
   },
   "outputs": [
    {
     "data": {
      "text/plain": [
       "(10189, 2)"
      ]
     },
     "metadata": {},
     "output_type": "display_data"
    },
    {
     "data": {
      "text/plain": [
       "(3044, 2)"
      ]
     },
     "metadata": {},
     "output_type": "display_data"
    },
    {
     "data": {
      "text/html": [
       "<div>\n",
       "<style scoped>\n",
       "    .dataframe tbody tr th:only-of-type {\n",
       "        vertical-align: middle;\n",
       "    }\n",
       "\n",
       "    .dataframe tbody tr th {\n",
       "        vertical-align: top;\n",
       "    }\n",
       "\n",
       "    .dataframe thead th {\n",
       "        text-align: right;\n",
       "    }\n",
       "</style>\n",
       "<table border=\"1\" class=\"dataframe\">\n",
       "  <thead>\n",
       "    <tr style=\"text-align: right;\">\n",
       "      <th></th>\n",
       "      <th>id</th>\n",
       "      <th>label</th>\n",
       "    </tr>\n",
       "  </thead>\n",
       "  <tbody>\n",
       "    <tr>\n",
       "      <th>0</th>\n",
       "      <td>0</td>\n",
       "      <td>0</td>\n",
       "    </tr>\n",
       "    <tr>\n",
       "      <th>1</th>\n",
       "      <td>1</td>\n",
       "      <td>0</td>\n",
       "    </tr>\n",
       "    <tr>\n",
       "      <th>2</th>\n",
       "      <td>2</td>\n",
       "      <td>0</td>\n",
       "    </tr>\n",
       "    <tr>\n",
       "      <th>3</th>\n",
       "      <td>3</td>\n",
       "      <td>0</td>\n",
       "    </tr>\n",
       "    <tr>\n",
       "      <th>4</th>\n",
       "      <td>4</td>\n",
       "      <td>0</td>\n",
       "    </tr>\n",
       "  </tbody>\n",
       "</table>\n",
       "</div>"
      ],
      "text/plain": [
       "   id  label\n",
       "0   0      0\n",
       "1   1      0\n",
       "2   2      0\n",
       "3   3      0\n",
       "4   4      0"
      ]
     },
     "metadata": {},
     "output_type": "display_data"
    }
   ],
   "source": [
    "train = pd.read_csv(\"/kaggle/input/classification-of-math-problems-by-kasut-academy/train.csv\")\n",
    "test = pd.read_csv(\"/kaggle/input/classification-of-math-problems-by-kasut-academy/test.csv\")\n",
    "sample_sub = pd.read_csv(\"/kaggle/input/classification-of-math-problems-by-kasut-academy/sample_submission.csv\")\n",
    "\n",
    "display(train.shape, test.shape)\n",
    "display(sample_sub.head())"
   ]
  },
  {
   "cell_type": "code",
   "execution_count": 4,
   "id": "48361896",
   "metadata": {
    "execution": {
     "iopub.execute_input": "2025-04-25T04:45:02.962761Z",
     "iopub.status.busy": "2025-04-25T04:45:02.962082Z",
     "iopub.status.idle": "2025-04-25T04:45:02.970409Z",
     "shell.execute_reply": "2025-04-25T04:45:02.969566Z"
    },
    "papermill": {
     "duration": 0.016036,
     "end_time": "2025-04-25T04:45:02.971733",
     "exception": false,
     "start_time": "2025-04-25T04:45:02.955697",
     "status": "completed"
    },
    "tags": []
   },
   "outputs": [
    {
     "data": {
      "text/html": [
       "<div>\n",
       "<style scoped>\n",
       "    .dataframe tbody tr th:only-of-type {\n",
       "        vertical-align: middle;\n",
       "    }\n",
       "\n",
       "    .dataframe tbody tr th {\n",
       "        vertical-align: top;\n",
       "    }\n",
       "\n",
       "    .dataframe thead th {\n",
       "        text-align: right;\n",
       "    }\n",
       "</style>\n",
       "<table border=\"1\" class=\"dataframe\">\n",
       "  <thead>\n",
       "    <tr style=\"text-align: right;\">\n",
       "      <th></th>\n",
       "      <th>Question</th>\n",
       "      <th>label</th>\n",
       "    </tr>\n",
       "  </thead>\n",
       "  <tbody>\n",
       "    <tr>\n",
       "      <th>0</th>\n",
       "      <td>A solitaire game is played as follows.  Six di...</td>\n",
       "      <td>3</td>\n",
       "    </tr>\n",
       "    <tr>\n",
       "      <th>1</th>\n",
       "      <td>2. The school table tennis championship was he...</td>\n",
       "      <td>5</td>\n",
       "    </tr>\n",
       "    <tr>\n",
       "      <th>2</th>\n",
       "      <td>Given that $x, y,$ and $z$ are real numbers th...</td>\n",
       "      <td>0</td>\n",
       "    </tr>\n",
       "    <tr>\n",
       "      <th>3</th>\n",
       "      <td>$25 \\cdot 22$ Given three distinct points $P\\l...</td>\n",
       "      <td>1</td>\n",
       "    </tr>\n",
       "    <tr>\n",
       "      <th>4</th>\n",
       "      <td>I am thinking of a five-digit number composed ...</td>\n",
       "      <td>5</td>\n",
       "    </tr>\n",
       "  </tbody>\n",
       "</table>\n",
       "</div>"
      ],
      "text/plain": [
       "                                            Question  label\n",
       "0  A solitaire game is played as follows.  Six di...      3\n",
       "1  2. The school table tennis championship was he...      5\n",
       "2  Given that $x, y,$ and $z$ are real numbers th...      0\n",
       "3  $25 \\cdot 22$ Given three distinct points $P\\l...      1\n",
       "4  I am thinking of a five-digit number composed ...      5"
      ]
     },
     "execution_count": 4,
     "metadata": {},
     "output_type": "execute_result"
    }
   ],
   "source": [
    "train.head()"
   ]
  },
  {
   "cell_type": "code",
   "execution_count": 5,
   "id": "0a8d2f9d",
   "metadata": {
    "execution": {
     "iopub.execute_input": "2025-04-25T04:45:02.984636Z",
     "iopub.status.busy": "2025-04-25T04:45:02.983975Z",
     "iopub.status.idle": "2025-04-25T04:45:02.992405Z",
     "shell.execute_reply": "2025-04-25T04:45:02.991433Z"
    },
    "papermill": {
     "duration": 0.016377,
     "end_time": "2025-04-25T04:45:02.993815",
     "exception": false,
     "start_time": "2025-04-25T04:45:02.977438",
     "status": "completed"
    },
    "tags": []
   },
   "outputs": [
    {
     "data": {
      "text/html": [
       "<div>\n",
       "<style scoped>\n",
       "    .dataframe tbody tr th:only-of-type {\n",
       "        vertical-align: middle;\n",
       "    }\n",
       "\n",
       "    .dataframe tbody tr th {\n",
       "        vertical-align: top;\n",
       "    }\n",
       "\n",
       "    .dataframe thead th {\n",
       "        text-align: right;\n",
       "    }\n",
       "</style>\n",
       "<table border=\"1\" class=\"dataframe\">\n",
       "  <thead>\n",
       "    <tr style=\"text-align: right;\">\n",
       "      <th></th>\n",
       "      <th>id</th>\n",
       "      <th>Question</th>\n",
       "    </tr>\n",
       "  </thead>\n",
       "  <tbody>\n",
       "    <tr>\n",
       "      <th>0</th>\n",
       "      <td>0</td>\n",
       "      <td>b'Solve 0 = -i - 91*i - 1598*i - 64220 for i.\\n'</td>\n",
       "    </tr>\n",
       "    <tr>\n",
       "      <th>1</th>\n",
       "      <td>1</td>\n",
       "      <td>Galperin G.A.\\n\\nA natural number $N$ is 999.....</td>\n",
       "    </tr>\n",
       "    <tr>\n",
       "      <th>2</th>\n",
       "      <td>2</td>\n",
       "      <td>Example 7 Calculate $\\frac{1}{2 \\sqrt{1}+\\sqrt...</td>\n",
       "    </tr>\n",
       "    <tr>\n",
       "      <th>3</th>\n",
       "      <td>3</td>\n",
       "      <td>If $A$, $B$, and $C$ represent three distinct ...</td>\n",
       "    </tr>\n",
       "    <tr>\n",
       "      <th>4</th>\n",
       "      <td>4</td>\n",
       "      <td>2. Calculate $1+12+123+1234+12345+123456+12345...</td>\n",
       "    </tr>\n",
       "  </tbody>\n",
       "</table>\n",
       "</div>"
      ],
      "text/plain": [
       "   id                                           Question\n",
       "0   0   b'Solve 0 = -i - 91*i - 1598*i - 64220 for i.\\n'\n",
       "1   1  Galperin G.A.\\n\\nA natural number $N$ is 999.....\n",
       "2   2  Example 7 Calculate $\\frac{1}{2 \\sqrt{1}+\\sqrt...\n",
       "3   3  If $A$, $B$, and $C$ represent three distinct ...\n",
       "4   4  2. Calculate $1+12+123+1234+12345+123456+12345..."
      ]
     },
     "execution_count": 5,
     "metadata": {},
     "output_type": "execute_result"
    }
   ],
   "source": [
    "test.head()"
   ]
  },
  {
   "cell_type": "code",
   "execution_count": 6,
   "id": "4dd7d3dc",
   "metadata": {
    "execution": {
     "iopub.execute_input": "2025-04-25T04:45:03.006922Z",
     "iopub.status.busy": "2025-04-25T04:45:03.006411Z",
     "iopub.status.idle": "2025-04-25T04:45:03.018968Z",
     "shell.execute_reply": "2025-04-25T04:45:03.018260Z"
    },
    "papermill": {
     "duration": 0.020609,
     "end_time": "2025-04-25T04:45:03.020295",
     "exception": false,
     "start_time": "2025-04-25T04:45:02.999686",
     "status": "completed"
    },
    "tags": []
   },
   "outputs": [
    {
     "data": {
      "text/plain": [
       "label\n",
       "0    2618\n",
       "1    2439\n",
       "5    1827\n",
       "4    1712\n",
       "2    1039\n",
       "3     368\n",
       "6     100\n",
       "7      86\n",
       "Name: count, dtype: int64"
      ]
     },
     "execution_count": 6,
     "metadata": {},
     "output_type": "execute_result"
    }
   ],
   "source": [
    "train[\"label\"].value_counts()"
   ]
  },
  {
   "cell_type": "code",
   "execution_count": 7,
   "id": "c3802b6c",
   "metadata": {
    "execution": {
     "iopub.execute_input": "2025-04-25T04:45:03.033559Z",
     "iopub.status.busy": "2025-04-25T04:45:03.033275Z",
     "iopub.status.idle": "2025-04-25T04:45:03.039259Z",
     "shell.execute_reply": "2025-04-25T04:45:03.038253Z"
    },
    "papermill": {
     "duration": 0.014255,
     "end_time": "2025-04-25T04:45:03.040969",
     "exception": false,
     "start_time": "2025-04-25T04:45:03.026714",
     "status": "completed"
    },
    "tags": []
   },
   "outputs": [
    {
     "name": "stdout",
     "output_type": "stream",
     "text": [
      "Q: 0\n",
      "b'Solve 19*v - 316 - 142 = 151 + 75 for v.\\n'\n",
      "\n",
      "\n",
      "Q: 1\n",
      "10. (5 points) As shown in the figure, it is a toy clock. When the hour hand makes one complete revolution, the minute hand makes 9 revolutions. If the two hands overlap at the beginning, then when the two hands overlap again, the degree the hour hand has turned is $\\qquad$ .\n",
      "\n",
      "\n",
      "\n",
      "\n",
      "Q: 2\n",
      "5) A cyclist climbs a hill at a constant speed $v$ and then descends the same road at a constant speed that is three times the previous speed. The average speed for the entire round trip is. .\n",
      "(A) $\\frac{3}{4} v$\n",
      "(B) $\\frac{4}{3} v$\n",
      "(C) $\\frac{3}{2} v$\n",
      "(D) $2 v$\n",
      "(E) depends on the length of the road\n",
      "\n",
      "\n",
      "Q: 3\n",
      "6. In $\\triangle A B C$,\n",
      "$$\n",
      "\\tan A 、(1+\\sqrt{2}) \\tan B 、 \\tan C\n",
      "$$\n",
      "\n",
      "form an arithmetic sequence. Then the minimum value of $\\angle B$ is\n",
      "\n",
      "\n",
      "Q: 4\n",
      "I3.1 Let $x \\neq \\pm 1$ and $x \\neq-3$. If $a$ is the real root of the equation $\\frac{1}{x-1}+\\frac{1}{x+3}=\\frac{2}{x^{2}-1}$, find the value of $a$\n",
      "I3.2 If $b>1, f(b)=\\frac{-a}{\\log _{2} b}$ and $g(b)=1+\\frac{1}{\\log _{3} b}$. If $b$ satisfies the equation $|f(b)-g(b)|+f(b)+g(b)=3$, find the value of $b$.\n",
      "\n",
      "I3.3 Given that $x_{0}$ satisfies the equation $x^{2}-5 x+(b-8)=0$. If $c=\\frac{x_{0}^{2}}{x_{0}^{4}+x_{0}^{2}+1}$, find the value of $c$.\n",
      "\n",
      "\n",
      "Q: 5\n",
      "3. Alice draws a heart on her math notebook as follows: first, she draws two circles with radius $1 \\, \\text{cm}$ and centers $O_{1}, O_{2}$, which are externally tangent. Let $r$ be the common tangent to the two circles passing through the point of tangency. She then chooses a point $P$ on $r$ such that $\\widehat{O_{1} P O_{2}}=60^{\\circ}$ and draws the tangents to the two circles passing through $P$. What is the area of the heart obtained (i.e., the shaded area in the figure) in $\\text{cm}^{2}$?\n",
      "\n",
      "![](https://cdn.mathpix.com/cropped/2024_04_17_c5c03d45c82457ddb3cag-03.jpg?height=306&width=325&top_left_y=761&top_left_x=1525)\n",
      "(A) $2 \\sqrt{3}+\\frac{4}{3} \\pi$\n",
      "(B) $\\sqrt{3}+\\pi$\n",
      "(C) $\\frac{7}{3} \\pi$\n",
      "(D) $\\frac{3}{2}+2 \\pi$\n",
      "(E) None of the above\n",
      "\n",
      "\n",
      "Q: 6\n",
      "## Task 1 - 310731\n",
      "\n",
      "At a birthday party, candies were distributed to the children:\n",
      "\n",
      "The first child received 1 candy and one-tenth of the remaining,\n",
      "\n",
      "The second child received 2 candies and one-tenth of the now remaining,\n",
      "\n",
      "The third child received 3 candies and one-tenth of the now remaining, etc.\n",
      "\n",
      "In the end, when this was consistently continued, all the candies were distributed, and it turned out that each child had received the same number of candies as every other child.\n",
      "\n",
      "Determine from these data the total number $a$ of all distributed candies, the number $k$ of all participating children, and the number $b$ of candies that each of these children received!\n",
      "\n",
      "Verify that for the numbers $a, k, b$ you have determined, all the above statements are true!\n",
      "\n",
      "\n",
      "Q: 7\n",
      "Shapovalov A.V.\n",
      "\n",
      "At every kilometer along the highway between the villages of Yolki and Palkino, there is a post with a sign. On one side of the sign, it shows how many kilometers are left to Yolki, and on the other side, how many kilometers are left to Palkino. Borya noticed that on each post, the sum of all the digits is 13. What is the distance from Yolki to Palkino?\n",
      "\n",
      "\n",
      "Q: 8\n",
      "Let $p$ be an odd prime and let $\\Z_p$ denote (the field of) integers modulo $p$. How many elements are in the set \\[ \\{x^2: x \\in \\Z_p\\} \\cap \\{y^2 + 1 : y \\in \\Z_p\\}? \\]\n",
      "\n",
      "\n",
      "Q: 9\n",
      "We call a natural number venerable if the sum of all its divisors, including $1$, but not including the number itself, is $1$ less than this number. Find all the venerable numbers, some exact degree of which is also venerable.\n",
      "\n",
      "\n",
      "Q: 10\n",
      "6. Using the four digits 6, 7, 8, and 9, many four-digit numbers without repeated digits can be formed. If they are arranged in ascending order, 9768 is the  th.\n",
      "\n",
      "\n",
      "Q: 11\n",
      "Define $B$ as the smallest set of positive integers satisfying the following conditions: \\begin{enumerate} \\item[(a)] $2$ is an element of $B$, \\item[(b)] if $k^2$ is in $B$, then $k$ is also in $B$, and \\item[(c)] if $k$ is in $B$, then $(k+5)^2$ is also in $B$. \\end{enumerate} Determine the sum of the first $k$ positive integers, in ascending order, that are not elements of $B$. (Note: $B$ is the smallest set in the sense that it is a subset of any other set satisfying these conditions.)\n",
      "\n",
      "\n",
      "Q: 12\n",
      "For a function $ f(x)\\equal{}(\\ln x)^2\\plus{}2\\ln x$, let $ C$ be the curve $ y\\equal{}f(x)$. Denote $ A(a,\\ f(a)),\\ B(b,\\ f(b))\\ (a<b)$ the points of tangency of  two tangents drawn from the origin $ O$ to $ C$ and the curve $ C$. Answer the following questions.\r\n",
      "\r\n",
      "(1) Examine the increase and decrease, extremal value and inflection point , then draw the approximate garph of the curve $ C$.\r\n",
      "\r\n",
      "(2) Find the values of $ a,\\ b$.\r\n",
      "\r\n",
      "(3) Find the volume by a rotation of  the figure bounded by the part from the point $ A$ to the point $ B$ and line segments $ OA,\\ OB$ around the $ y$-axis.\n",
      "\n",
      "\n",
      "Q: 13\n",
      "8・ 129 Let the sequence $\\left\\{x_{n}\\right\\}$ satisfy $x_{1}=5$, and\n",
      "$$\n",
      "x_{n+1}=x_{n}^{2}-2, n=1,2, \\cdots\n",
      "$$\n",
      "\n",
      "Find: $\\lim _{n \\rightarrow \\infty} \\frac{x_{n+1}}{x_{1} x_{2} \\cdots x_{n}}$.\n",
      "\n",
      "\n",
      "Q: 14\n",
      "[Example 5.6.4] On a $6 \\times 6$ chessboard, $n$ dominoes of size $1 \\times 2$ are placed, each domino covering exactly two squares. If no matter how these $n$ dominoes are placed, it is always possible to place one more domino, find the maximum value of $n$.\n",
      "\n",
      "\n",
      "\n",
      "\n",
      "Q: 15\n",
      "Imagine a rectangular board with $p$ rows and $d$ columns, where each cell is labeled $(v,b)$. Here, $v$ ranges from 1 to $p$, and $b$ from 1 to $d$. Initially, $(p-1)(d-1)$ coins are placed on the board, occupying all cells $(v,b)$ where $v$ is at most $p-1$ and $b$ is at most $d-1$. A valid move consists of sliding a coin diagonally from $(v,b)$ to $(v+1,b+1)$, but only if $v < p$, $b < d$, and the three cells $(v+1,b)$, $(v,b+1)$, and $(v+1,b+1)$ are empty. Starting from this initial setup, and using any number of valid moves (including zero), how many different coin arrangements are possible?\n",
      "\n",
      "\n",
      "Q: 16\n",
      "An $11\\times 11\\times 11$ wooden cube is formed by gluing together $11^3$ unit cubes. What is the greatest number of unit cubes that can be seen from a single point?\n",
      "$\\text{(A) 328} \\quad \\text{(B) 329} \\quad \\text{(C) 330} \\quad \\text{(D) 331} \\quad \\text{(E) 332}$\n",
      "\n",
      "\n",
      "Q: 17\n",
      "What is the maximum number of rational points that can lie on a circle in $\\mathbb{R}^2$ whose center is not a rational point? (A \\emph{rational point} is a point both of whose coordinates are rational numbers.)\n",
      "\n",
      "\n",
      "Q: 18\n",
      "A circle of radius $10$ inches has its center at the vertex $C$ of an equilateral triangle $ABC$ and\n",
      "passes through the other two vertices. The side $AC$ extended through $C$ intersects the circle\n",
      "at $D$. The number of degrees of angle $ADB$ is:\n",
      "$\\text{(A)} 15 \\quad  \\text{(B)}30 \\quad \\text{(C)}60 \\quad \\text{(D)}90 \\quad \\text{(E)}120$\n",
      "\n",
      "\n",
      "Q: 19\n",
      "697. Where are the points $(x, y)$ for which $y=2 x+1$?\n",
      "\n",
      "\n"
     ]
    }
   ],
   "source": [
    "for ind, i in enumerate(train[\"Question\"][80:100]):\n",
    "    print(\"Q:\", ind)\n",
    "    print(i)\n",
    "    print(\"\\n\")"
   ]
  },
  {
   "cell_type": "markdown",
   "id": "31d04389",
   "metadata": {},
   "source": [
    "- Many problems starts with random things in different forms in many examples like\n",
    "    - numbers\n",
    "    - Example ...\n",
    "    - task ...\n",
    "- Has links, random names\n",
    "- Has names of question creators, authors etc\n",
    "- Maybe extracted or scraped questions and are not derived by humans. Or these things are introduced randomly for competition purposes."
   ]
  },
  {
   "cell_type": "code",
   "execution_count": 9,
   "id": "c1e9ddb3",
   "metadata": {
    "execution": {
     "iopub.execute_input": "2025-04-25T04:45:03.071901Z",
     "iopub.status.busy": "2025-04-25T04:45:03.071641Z",
     "iopub.status.idle": "2025-04-25T04:45:03.082148Z",
     "shell.execute_reply": "2025-04-25T04:45:03.081344Z"
    },
    "papermill": {
     "duration": 0.018368,
     "end_time": "2025-04-25T04:45:03.083439",
     "exception": false,
     "start_time": "2025-04-25T04:45:03.065071",
     "status": "completed"
    },
    "tags": []
   },
   "outputs": [
    {
     "data": {
      "text/plain": [
       "(10189,)"
      ]
     },
     "metadata": {},
     "output_type": "display_data"
    },
    {
     "data": {
      "text/plain": [
       "(10189,)"
      ]
     },
     "metadata": {},
     "output_type": "display_data"
    },
    {
     "data": {
      "text/plain": [
       "0    A solitaire game is played as follows.  Six di...\n",
       "1    2. The school table tennis championship was he...\n",
       "Name: Question, dtype: object"
      ]
     },
     "metadata": {},
     "output_type": "display_data"
    },
    {
     "data": {
      "text/plain": [
       "0    3\n",
       "1    5\n",
       "Name: label, dtype: int64"
      ]
     },
     "metadata": {},
     "output_type": "display_data"
    }
   ],
   "source": [
    "X = train[\"Question\"]\n",
    "y = train[\"label\"]\n",
    "display(X.shape, y.shape, X.head(2), y.head(2))"
   ]
  },
  {
   "cell_type": "markdown",
   "id": "24bff0a4",
   "metadata": {},
   "source": [
    "# Split data"
   ]
  },
  {
   "cell_type": "code",
   "execution_count": null,
   "id": "70e8c84f",
   "metadata": {
    "execution": {
     "iopub.execute_input": "2025-04-25T04:45:03.097315Z",
     "iopub.status.busy": "2025-04-25T04:45:03.096759Z",
     "iopub.status.idle": "2025-04-25T04:45:04.583587Z",
     "shell.execute_reply": "2025-04-25T04:45:04.582438Z"
    },
    "papermill": {
     "duration": 1.495701,
     "end_time": "2025-04-25T04:45:04.585377",
     "exception": false,
     "start_time": "2025-04-25T04:45:03.089676",
     "status": "completed"
    },
    "tags": []
   },
   "outputs": [
    {
     "data": {
      "text/plain": [
       "((9170,), (1019,), (9170,), (1019,))"
      ]
     },
     "execution_count": 10,
     "metadata": {},
     "output_type": "execute_result"
    }
   ],
   "source": [
    "X_train, X_test, y_train, y_test = train_test_split(X, y, stratify=y, test_size=0.1, random_state=42)\n",
    "X_train.shape, X_test.shape, y_train.shape, y_test.shape"
   ]
  },
  {
   "cell_type": "markdown",
   "id": "cd03b231",
   "metadata": {},
   "source": [
    "# Create Training Pipeline with Logistic Regression"
   ]
  },
  {
   "cell_type": "code",
   "execution_count": 12,
   "id": "ee3fabf4",
   "metadata": {
    "execution": {
     "iopub.execute_input": "2025-04-25T04:45:09.983976Z",
     "iopub.status.busy": "2025-04-25T04:45:09.983357Z",
     "iopub.status.idle": "2025-04-25T04:45:13.943021Z",
     "shell.execute_reply": "2025-04-25T04:45:13.942227Z"
    },
    "papermill": {
     "duration": 3.968872,
     "end_time": "2025-04-25T04:45:13.945062",
     "exception": false,
     "start_time": "2025-04-25T04:45:09.976190",
     "status": "completed"
    },
    "tags": []
   },
   "outputs": [
    {
     "data": {
      "text/html": [
       "<style>#sk-container-id-1 {color: black;background-color: white;}#sk-container-id-1 pre{padding: 0;}#sk-container-id-1 div.sk-toggleable {background-color: white;}#sk-container-id-1 label.sk-toggleable__label {cursor: pointer;display: block;width: 100%;margin-bottom: 0;padding: 0.3em;box-sizing: border-box;text-align: center;}#sk-container-id-1 label.sk-toggleable__label-arrow:before {content: \"▸\";float: left;margin-right: 0.25em;color: #696969;}#sk-container-id-1 label.sk-toggleable__label-arrow:hover:before {color: black;}#sk-container-id-1 div.sk-estimator:hover label.sk-toggleable__label-arrow:before {color: black;}#sk-container-id-1 div.sk-toggleable__content {max-height: 0;max-width: 0;overflow: hidden;text-align: left;background-color: #f0f8ff;}#sk-container-id-1 div.sk-toggleable__content pre {margin: 0.2em;color: black;border-radius: 0.25em;background-color: #f0f8ff;}#sk-container-id-1 input.sk-toggleable__control:checked~div.sk-toggleable__content {max-height: 200px;max-width: 100%;overflow: auto;}#sk-container-id-1 input.sk-toggleable__control:checked~label.sk-toggleable__label-arrow:before {content: \"▾\";}#sk-container-id-1 div.sk-estimator input.sk-toggleable__control:checked~label.sk-toggleable__label {background-color: #d4ebff;}#sk-container-id-1 div.sk-label input.sk-toggleable__control:checked~label.sk-toggleable__label {background-color: #d4ebff;}#sk-container-id-1 input.sk-hidden--visually {border: 0;clip: rect(1px 1px 1px 1px);clip: rect(1px, 1px, 1px, 1px);height: 1px;margin: -1px;overflow: hidden;padding: 0;position: absolute;width: 1px;}#sk-container-id-1 div.sk-estimator {font-family: monospace;background-color: #f0f8ff;border: 1px dotted black;border-radius: 0.25em;box-sizing: border-box;margin-bottom: 0.5em;}#sk-container-id-1 div.sk-estimator:hover {background-color: #d4ebff;}#sk-container-id-1 div.sk-parallel-item::after {content: \"\";width: 100%;border-bottom: 1px solid gray;flex-grow: 1;}#sk-container-id-1 div.sk-label:hover label.sk-toggleable__label {background-color: #d4ebff;}#sk-container-id-1 div.sk-serial::before {content: \"\";position: absolute;border-left: 1px solid gray;box-sizing: border-box;top: 0;bottom: 0;left: 50%;z-index: 0;}#sk-container-id-1 div.sk-serial {display: flex;flex-direction: column;align-items: center;background-color: white;padding-right: 0.2em;padding-left: 0.2em;position: relative;}#sk-container-id-1 div.sk-item {position: relative;z-index: 1;}#sk-container-id-1 div.sk-parallel {display: flex;align-items: stretch;justify-content: center;background-color: white;position: relative;}#sk-container-id-1 div.sk-item::before, #sk-container-id-1 div.sk-parallel-item::before {content: \"\";position: absolute;border-left: 1px solid gray;box-sizing: border-box;top: 0;bottom: 0;left: 50%;z-index: -1;}#sk-container-id-1 div.sk-parallel-item {display: flex;flex-direction: column;z-index: 1;position: relative;background-color: white;}#sk-container-id-1 div.sk-parallel-item:first-child::after {align-self: flex-end;width: 50%;}#sk-container-id-1 div.sk-parallel-item:last-child::after {align-self: flex-start;width: 50%;}#sk-container-id-1 div.sk-parallel-item:only-child::after {width: 0;}#sk-container-id-1 div.sk-dashed-wrapped {border: 1px dashed gray;margin: 0 0.4em 0.5em 0.4em;box-sizing: border-box;padding-bottom: 0.4em;background-color: white;}#sk-container-id-1 div.sk-label label {font-family: monospace;font-weight: bold;display: inline-block;line-height: 1.2em;}#sk-container-id-1 div.sk-label-container {text-align: center;}#sk-container-id-1 div.sk-container {/* jupyter's `normalize.less` sets `[hidden] { display: none; }` but bootstrap.min.css set `[hidden] { display: none !important; }` so we also need the `!important` here to be able to override the default hidden behavior on the sphinx rendered scikit-learn.org. See: https://github.com/scikit-learn/scikit-learn/issues/21755 */display: inline-block !important;position: relative;}#sk-container-id-1 div.sk-text-repr-fallback {display: none;}</style><div id=\"sk-container-id-1\" class=\"sk-top-container\"><div class=\"sk-text-repr-fallback\"><pre>Pipeline(steps=[(&#x27;vect&#x27;, CountVectorizer()), (&#x27;tfidf&#x27;, TfidfTransformer()),\n",
       "                (&#x27;clf&#x27;,\n",
       "                 LogisticRegression(class_weight=&#x27;balanced&#x27;,\n",
       "                                    multi_class=&#x27;ovr&#x27;))])</pre><b>In a Jupyter environment, please rerun this cell to show the HTML representation or trust the notebook. <br />On GitHub, the HTML representation is unable to render, please try loading this page with nbviewer.org.</b></div><div class=\"sk-container\" hidden><div class=\"sk-item sk-dashed-wrapped\"><div class=\"sk-label-container\"><div class=\"sk-label sk-toggleable\"><input class=\"sk-toggleable__control sk-hidden--visually\" id=\"sk-estimator-id-1\" type=\"checkbox\" ><label for=\"sk-estimator-id-1\" class=\"sk-toggleable__label sk-toggleable__label-arrow\">Pipeline</label><div class=\"sk-toggleable__content\"><pre>Pipeline(steps=[(&#x27;vect&#x27;, CountVectorizer()), (&#x27;tfidf&#x27;, TfidfTransformer()),\n",
       "                (&#x27;clf&#x27;,\n",
       "                 LogisticRegression(class_weight=&#x27;balanced&#x27;,\n",
       "                                    multi_class=&#x27;ovr&#x27;))])</pre></div></div></div><div class=\"sk-serial\"><div class=\"sk-item\"><div class=\"sk-estimator sk-toggleable\"><input class=\"sk-toggleable__control sk-hidden--visually\" id=\"sk-estimator-id-2\" type=\"checkbox\" ><label for=\"sk-estimator-id-2\" class=\"sk-toggleable__label sk-toggleable__label-arrow\">CountVectorizer</label><div class=\"sk-toggleable__content\"><pre>CountVectorizer()</pre></div></div></div><div class=\"sk-item\"><div class=\"sk-estimator sk-toggleable\"><input class=\"sk-toggleable__control sk-hidden--visually\" id=\"sk-estimator-id-3\" type=\"checkbox\" ><label for=\"sk-estimator-id-3\" class=\"sk-toggleable__label sk-toggleable__label-arrow\">TfidfTransformer</label><div class=\"sk-toggleable__content\"><pre>TfidfTransformer()</pre></div></div></div><div class=\"sk-item\"><div class=\"sk-estimator sk-toggleable\"><input class=\"sk-toggleable__control sk-hidden--visually\" id=\"sk-estimator-id-4\" type=\"checkbox\" ><label for=\"sk-estimator-id-4\" class=\"sk-toggleable__label sk-toggleable__label-arrow\">LogisticRegression</label><div class=\"sk-toggleable__content\"><pre>LogisticRegression(class_weight=&#x27;balanced&#x27;, multi_class=&#x27;ovr&#x27;)</pre></div></div></div></div></div></div></div>"
      ],
      "text/plain": [
       "Pipeline(steps=[('vect', CountVectorizer()), ('tfidf', TfidfTransformer()),\n",
       "                ('clf',\n",
       "                 LogisticRegression(class_weight='balanced',\n",
       "                                    multi_class='ovr'))])"
      ]
     },
     "execution_count": 12,
     "metadata": {},
     "output_type": "execute_result"
    }
   ],
   "source": [
    "lr = Pipeline([('vect', CountVectorizer()),\n",
    "               ('tfidf', TfidfTransformer()),\n",
    "               ('clf', LogisticRegression(class_weight=\"balanced\", multi_class='ovr'))\n",
    "              ])\n",
    "lr.fit(X_train, y_train)"
   ]
  },
  {
   "cell_type": "markdown",
   "id": "2d3944d9",
   "metadata": {},
   "source": [
    "# Make Predictions"
   ]
  },
  {
   "cell_type": "code",
   "execution_count": 13,
   "id": "02ca3d88",
   "metadata": {
    "execution": {
     "iopub.execute_input": "2025-04-25T04:45:13.968624Z",
     "iopub.status.busy": "2025-04-25T04:45:13.968283Z",
     "iopub.status.idle": "2025-04-25T04:45:14.306678Z",
     "shell.execute_reply": "2025-04-25T04:45:14.306037Z"
    },
    "papermill": {
     "duration": 0.351847,
     "end_time": "2025-04-25T04:45:14.308152",
     "exception": false,
     "start_time": "2025-04-25T04:45:13.956305",
     "status": "completed"
    },
    "tags": []
   },
   "outputs": [],
   "source": [
    "train_preds_lr = lr.predict(X_train)\n",
    "test_preds_lr = lr.predict(X_test)"
   ]
  },
  {
   "cell_type": "markdown",
   "id": "24072912",
   "metadata": {},
   "source": [
    "# Evaluate"
   ]
  },
  {
   "cell_type": "code",
   "execution_count": 14,
   "id": "ab8d5d13",
   "metadata": {
    "execution": {
     "iopub.execute_input": "2025-04-25T04:45:14.322474Z",
     "iopub.status.busy": "2025-04-25T04:45:14.322098Z",
     "iopub.status.idle": "2025-04-25T04:45:14.647867Z",
     "shell.execute_reply": "2025-04-25T04:45:14.646736Z"
    },
    "papermill": {
     "duration": 0.334722,
     "end_time": "2025-04-25T04:45:14.649464",
     "exception": false,
     "start_time": "2025-04-25T04:45:14.314742",
     "status": "completed"
    },
    "tags": []
   },
   "outputs": [
    {
     "name": "stdout",
     "output_type": "stream",
     "text": [
      "Logistic Regression Train Accuracy: 0.8742639040348964\n",
      "Logistic Regression Test Accuracy: 0.7939156035328754\n"
     ]
    }
   ],
   "source": [
    "print(\"Logistic Regression Train Accuracy:\", lr.score(X_train, y_train))\n",
    "print(\"Logistic Regression Test Accuracy:\", lr.score(X_test, y_test))"
   ]
  }
 ],
 "metadata": {
  "kaggle": {
   "accelerator": "none",
   "dataSources": [
    {
     "databundleVersionId": 11615683,
     "sourceId": 97669,
     "sourceType": "competition"
    }
   ],
   "isGpuEnabled": false,
   "isInternetEnabled": true,
   "language": "python",
   "sourceType": "notebook"
  },
  "kernelspec": {
   "display_name": "Python 3",
   "language": "python",
   "name": "python3"
  },
  "language_info": {
   "codemirror_mode": {
    "name": "ipython",
    "version": 3
   },
   "file_extension": ".py",
   "mimetype": "text/x-python",
   "name": "python",
   "nbconvert_exporter": "python",
   "pygments_lexer": "ipython3",
   "version": "3.11.11"
  },
  "papermill": {
   "default_parameters": {},
   "duration": 54.080983,
   "end_time": "2025-04-25T04:45:50.515630",
   "environment_variables": {},
   "exception": null,
   "input_path": "__notebook__.ipynb",
   "output_path": "__notebook__.ipynb",
   "parameters": {},
   "start_time": "2025-04-25T04:44:56.434647",
   "version": "2.6.0"
  }
 },
 "nbformat": 4,
 "nbformat_minor": 5
}
